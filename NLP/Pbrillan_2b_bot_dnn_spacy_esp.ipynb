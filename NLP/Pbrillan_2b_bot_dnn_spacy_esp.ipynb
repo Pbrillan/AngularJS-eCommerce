{
  "cells": [
    {
      "cell_type": "markdown",
      "metadata": {
        "id": "view-in-github",
        "colab_type": "text"
      },
      "source": [
        "<a href=\"https://colab.research.google.com/github/Pbrillan/AngularJS-eCommerce/blob/master/NLP/Pbrillan_2b_bot_dnn_spacy_esp.ipynb\" target=\"_parent\"><img src=\"https://colab.research.google.com/assets/colab-badge.svg\" alt=\"Open In Colab\"/></a>"
      ]
    },
    {
      "cell_type": "markdown",
      "metadata": {
        "id": "NV8wZ0MTKjv_"
      },
      "source": [
        "<img src=\"https://github.com/hernancontigiani/ceia_memorias_especializacion/raw/master/Figures/logoFIUBA.jpg\" width=\"500\" align=\"center\">\n",
        "\n",
        "\n",
        "# Procesamiento de lenguaje natural\n",
        "## Bot basado en reglas con DNN + Spacy"
      ]
    },
    {
      "cell_type": "markdown",
      "metadata": {
        "id": "Z_9z3H-yKrcK"
      },
      "source": [
        "#### Datos\n",
        "Este ejemplo se inspiró en otro Bot en inglés creado con NLTK, lo tienen como referencia para hacer lo mismo en inglés:\\\n",
        "[LINK](https://towardsdatascience.com/a-simple-chatbot-in-python-with-deep-learning-3e8669997758)"
      ]
    },
    {
      "cell_type": "markdown",
      "metadata": {
        "id": "oCVZakCzAjGN"
      },
      "source": [
        "### 1 - Instalar dependencias\n",
        "Para poder utilizar Spacy en castellano es necesario agregar la librería \"spacy-stanza\" para lematizar palabras en español."
      ]
    },
    {
      "cell_type": "code",
      "execution_count": 1,
      "metadata": {
        "id": "Zd8NLa4gsSmT",
        "colab": {
          "base_uri": "https://localhost:8080/"
        },
        "outputId": "341e7bd2-32b0-4df0-f589-20301b171966"
      },
      "outputs": [
        {
          "output_type": "stream",
          "name": "stdout",
          "text": [
            "\u001b[K     |████████████████████████████████| 6.4 MB 10.6 MB/s \n",
            "\u001b[K     |████████████████████████████████| 451 kB 72.5 MB/s \n",
            "\u001b[K     |████████████████████████████████| 10.1 MB 65.0 MB/s \n",
            "\u001b[K     |████████████████████████████████| 42 kB 1.1 MB/s \n",
            "\u001b[K     |████████████████████████████████| 653 kB 56.5 MB/s \n",
            "\u001b[K     |████████████████████████████████| 342 kB 13.7 MB/s \n",
            "\u001b[?25h"
          ]
        }
      ],
      "source": [
        "# La última versión de spacy-stanza (>1.0) es compatible solo con spacy >=3.0\n",
        "# Nota: spacy 3.0 incorpora al pepiline nlp transformers\n",
        "!pip install -U spacy==3.1 --quiet\n",
        "!pip install -U spacy-stanza==1.0.0 --quiet"
      ]
    },
    {
      "cell_type": "code",
      "execution_count": 2,
      "metadata": {
        "id": "kzao7XO9NJAq"
      },
      "outputs": [],
      "source": [
        "import json\n",
        "import string\n",
        "import random \n",
        "import numpy as np\n",
        "\n",
        "import tensorflow as tf \n",
        "from tensorflow.keras import Sequential \n",
        "from tensorflow.keras.layers import Dense, Dropout"
      ]
    },
    {
      "cell_type": "code",
      "execution_count": 3,
      "metadata": {
        "id": "Z_ExOb8uvjqK",
        "colab": {
          "base_uri": "https://localhost:8080/",
          "height": 462,
          "referenced_widgets": [
            "0bcd14fabb5f4d5aa1b0acfa633e4c87",
            "d0b8bc045b814d51b3d9e979ffec7dcf",
            "7055b8e4da854c1286d219f37d0685ff",
            "89a6d53016734b3ea377230655aaa812",
            "7cab2c560f06428b9d54d367c3ffbb78",
            "3d9751085c2e4449985671573af6d9f6",
            "e476051121474478b8bd61c4b88a163a",
            "210651d46e3140808f118d56576b4155",
            "771b28ddedaa4707956cea681eceacdf",
            "264418fc59034c2eb2026807defb18c6",
            "bfa3134167874ad38156cf3ff35465ac",
            "c9a83919811241a7be79271ddb409ee2",
            "8e8cb196515d4b0697160b0b071e54ee",
            "b41ead89ad284303a0cb5302441ed825",
            "f32849556eae48db8eec3cd87f0b7c51",
            "056d9a4b1c4c47b08aecea95fb339c8a",
            "8c45fb355bcd43dcab52c9e2c1047646",
            "3dd5e94805a2493483e26e377974fea8",
            "ae15fc8f3d45440bb2360248050c1520",
            "f8728c5a56fe4750894554625a75f523",
            "7b11ede93f6d4ccea64e42e2e4fff1d7",
            "3d62b64ed7e44ff09af53687e90955bc"
          ]
        },
        "outputId": "96cc67d6-ea3b-417b-dc36-d61a97092616"
      },
      "outputs": [
        {
          "output_type": "display_data",
          "data": {
            "text/plain": [
              "Downloading https://raw.githubusercontent.com/stanfordnlp/stanza-resources/main/resources_1.2.2.json:   0%|   …"
            ],
            "application/vnd.jupyter.widget-view+json": {
              "version_major": 2,
              "version_minor": 0,
              "model_id": "0bcd14fabb5f4d5aa1b0acfa633e4c87"
            }
          },
          "metadata": {}
        },
        {
          "output_type": "stream",
          "name": "stderr",
          "text": [
            "2022-03-28 20:29:03 INFO: Downloading default packages for language: es (Spanish)...\n"
          ]
        },
        {
          "output_type": "display_data",
          "data": {
            "text/plain": [
              "Downloading http://nlp.stanford.edu/software/stanza/1.2.2/es/default.zip:   0%|          | 0.00/566M [00:00<?,…"
            ],
            "application/vnd.jupyter.widget-view+json": {
              "version_major": 2,
              "version_minor": 0,
              "model_id": "c9a83919811241a7be79271ddb409ee2"
            }
          },
          "metadata": {}
        },
        {
          "output_type": "stream",
          "name": "stderr",
          "text": [
            "2022-03-28 20:30:55 INFO: Finished downloading models and saved to /root/stanza_resources.\n",
            "2022-03-28 20:30:55 INFO: Loading these models for language: es (Spanish):\n",
            "=======================\n",
            "| Processor | Package |\n",
            "-----------------------\n",
            "| tokenize  | ancora  |\n",
            "| mwt       | ancora  |\n",
            "| pos       | ancora  |\n",
            "| lemma     | ancora  |\n",
            "| depparse  | ancora  |\n",
            "| ner       | conll02 |\n",
            "=======================\n",
            "\n",
            "2022-03-28 20:30:55 INFO: Use device: cpu\n",
            "2022-03-28 20:30:55 INFO: Loading: tokenize\n",
            "2022-03-28 20:30:55 INFO: Loading: mwt\n",
            "2022-03-28 20:30:56 INFO: Loading: pos\n",
            "2022-03-28 20:30:56 INFO: Loading: lemma\n",
            "2022-03-28 20:30:56 INFO: Loading: depparse\n",
            "2022-03-28 20:30:56 INFO: Loading: ner\n",
            "2022-03-28 20:30:57 INFO: Done loading processors!\n"
          ]
        }
      ],
      "source": [
        "import stanza\n",
        "import spacy_stanza\n",
        "\n",
        "# Vamos a usar SpaCy-Stanza. Stanza es una librería de NLP de Stanford\n",
        "# SpaCy armó un wrapper para los pipelines y modelos de Stanza\n",
        "# https://stanfordnlp.github.io/stanza/\n",
        "\n",
        "# Descargar el diccionario en español y armar el pipeline de NLP con spacy\n",
        "stanza.download(\"es\")\n",
        "nlp = spacy_stanza.load_pipeline(\"es\")"
      ]
    },
    {
      "cell_type": "code",
      "source": [
        "# Stop words\n",
        "import nltk\n",
        "from nltk.corpus import stopwords\n",
        "nltk.download('stopwords')\n",
        "\n",
        "nltk_stop_words = set(stopwords.words(\"spanish\"))\n",
        "#filtered_sentence = [w for w in nltk_punctuation if w not in nltk_stop_words]\n",
        "#print(\"Stop words filter:\", filtered_sentence)\n",
        "print(nltk_stop_words)"
      ],
      "metadata": {
        "colab": {
          "base_uri": "https://localhost:8080/"
        },
        "id": "7bjfYbUZ1FVW",
        "outputId": "34660d83-19ba-4518-933f-8339ccb6c607"
      },
      "execution_count": 4,
      "outputs": [
        {
          "output_type": "stream",
          "name": "stdout",
          "text": [
            "[nltk_data] Downloading package stopwords to /root/nltk_data...\n",
            "[nltk_data]   Unzipping corpora/stopwords.zip.\n",
            "{'en', 'te', 'fuéramos', 'tendréis', 'del', 'muchos', 'hubiste', 'esas', 'serás', 'hubieseis', 'tendríais', 'tengan', 'sin', 'era', 'estáis', 'esos', 'seáis', 'mí', 'vuestras', 'seas', 'durante', 'qué', 'que', 'tenéis', 'estuvieseis', 'sois', 'estuviste', 'estuviésemos', 'eres', 'habéis', 'fueseis', 'seamos', 'somos', 'tus', 'tenemos', 'entre', 'quien', 'estabais', 'fuimos', 'algunos', 'estuvisteis', 'tuviese', 'con', 'teníamos', 'estará', 'algo', 'estaríamos', 'he', 'tenida', 'habrá', 'antes', 'mías', 'estaréis', 'estarán', 'hayas', 'estuviesen', 'tendrían', 'estaba', 'fuisteis', 'serías', 'tenía', 'estuvieran', 'fue', 'hasta', 'tiene', 'hubieron', 'sí', 'había', 'sus', 'tenías', 'tuyo', 'hubiéramos', 'estemos', 'estuviéramos', 'hubieses', 'estadas', 'estaría', 'seréis', 'fueras', 'sería', 'tuviste', 'ella', 'vosotras', 'hubimos', 'como', 'estuvieron', 'tenga', 'ha', 'nosotras', 'habré', 'lo', 'hubierais', 'haya', 'cuando', 'tuya', 'más', 'seríamos', 'fuerais', 'has', 'tuyas', 'hemos', 'estuvierais', 'las', 'tenidas', 'son', 'hay', 'ya', 'cual', 'ellas', 'tuvo', 'estas', 'sentida', 'estuve', 'tuviera', 'no', 'hubisteis', 'hubo', 'a', 'fui', 'fuesen', 'tendré', 'mis', 'habías', 'habíamos', 'tu', 'habíais', 'al', 'fuera', 'tenidos', 'ellos', 'estada', 'esta', 'habida', 'soy', 'tuvimos', 'sentidas', 'tenían', 'otros', 'tuve', 'estuvieras', 'teniendo', 'tuvieses', 'tienes', 'nada', 'estéis', 'sea', 'ante', 'eras', 'y', 'serán', 'su', 'tendremos', 'tened', 'vuestra', 'mi', 'tendrá', 'tendríamos', 'para', 'habido', 'uno', 'suyos', 'vosotros', 'estén', 'desde', 'míos', 'hayáis', 'otras', 'sintiendo', 'hubiesen', 'será', 'tuvieras', 'estarías', 'tuvieseis', 'ti', 'seremos', 'habrás', 'estuviera', 'tanto', 'ni', 'yo', 'estuvimos', 'hubiera', 'estad', 'sentidos', 'tuvieron', 'estés', 'también', 'suyo', 'habrías', 'la', 'fueron', 'están', 'fuiste', 'tuvierais', 'se', 'unos', 'tendrán', 'eran', 'está', 'estarían', 'nuestra', 'algunas', 'habidas', 'tuvisteis', 'fueses', 'habidos', 'hayamos', 'mío', 'habrán', 'nos', 'mucho', 'fuese', 'de', 'suyas', 'estuvo', 'nuestros', 'vuestro', 'él', 'estaré', 'estarás', 'nuestras', 'el', 'estar', 'hube', 'habréis', 'los', 'siente', 'donde', 'todos', 'e', 'le', 'suya', 'una', 'estando', 'sobre', 'esto', 'estado', 'tuviéramos', 'serían', 'este', 'pero', 'otro', 'estaremos', 'un', 'teníais', 'estados', 'contra', 'habrían', 'mía', 'esté', 'o', 'tienen', 'esa', 'habremos', 'quienes', 'estamos', 'poco', 'habríais', 'tendrás', 'es', 'tuviesen', 'estuvieses', 'porque', 'estuviese', 'tengas', 'estábamos', 'nosotros', 'vuestros', 'habríamos', 'muy', 'tú', 'todo', 'estaríais', 'tuyos', 'fueran', 'habría', 'hubieran', 'les', 'tuviésemos', 'estás', 'estaban', 'tengáis', 'hubiese', 'sentido', 'tuvieran', 'estos', 'otra', 'habiendo', 'hubiésemos', 'fuésemos', 'seré', 'seríais', 'sentid', 'me', 'os', 'estabas', 'tengo', 'tengamos', 'eso', 'ese', 'tenido', 'erais', 'sean', 'por', 'tendrías', 'éramos', 'habían', 'nuestro', 'estoy', 'hubieras', 'han', 'hayan', 'tendría'}\n"
          ]
        }
      ]
    },
    {
      "cell_type": "markdown",
      "metadata": {
        "id": "_wF10RjVMBdV"
      },
      "source": [
        "### 2 - Herramientas de preprocesamiento de datos\n",
        "Entre las tareas de procesamiento de texto en español se implementa:\n",
        "- Quitar acentos y caracteres especiales\n",
        "- Quitar números\n",
        "- Quitar símbolos de puntuación"
      ]
    },
    {
      "cell_type": "code",
      "execution_count": 5,
      "metadata": {
        "id": "ZxoD2hEExmuX"
      },
      "outputs": [],
      "source": [
        "import re\n",
        "import unicodedata\n",
        "\n",
        "# El preprocesamento en castellano requiere más trabajo\n",
        "\n",
        "# Referencia de regex:\n",
        "# https://docs.python.org/3/library/re.html\n",
        "\n",
        "def preprocess_clean_text(text):    \n",
        "    #text = ''.join([w for w in text if w not in nltk_stop_words])\n",
        "    # sacar tildes de las palabras\n",
        "    text = unicodedata.normalize('NFKD', text).encode('ascii', 'ignore').decode('utf-8', 'ignore')\n",
        "    # quitar caracteres especiales\n",
        "    pattern = r'[^a-zA-z0-9.,!?/:;\\\"\\'\\s]' \n",
        "    text = re.sub(pattern, '', text)\n",
        "    pattern = r'[^a-zA-z.,!?/:;\\\"\\'\\s]' \n",
        "    # quitar números\n",
        "    text = re.sub(pattern, '', text)\n",
        "    # quitar caracteres de puntiación\n",
        "    text = ''.join([c for c in text if c not in string.punctuation])\n",
        "    text = text.split(\" \")\n",
        "    text = ' '.join([c for c in text if c not in nltk_stop_words])\n",
        "    #text2 =\"\"\n",
        "    #print(text)\n",
        "    #for w in text: \n",
        "    #  if w not in nltk_stop_words:\n",
        "    #    print(w)\n",
        "    #    text2 += \" \" + w\n",
        "    #print(text)\n",
        "    #print(text2)\n",
        "    return text"
      ]
    },
    {
      "cell_type": "code",
      "source": [
        ""
      ],
      "metadata": {
        "id": "ocSctwe_6Cn9"
      },
      "execution_count": 5,
      "outputs": []
    },
    {
      "cell_type": "code",
      "execution_count": 6,
      "metadata": {
        "id": "q-MiMZjh5fu2",
        "colab": {
          "base_uri": "https://localhost:8080/",
          "height": 36
        },
        "outputId": "ef513f32-1c25-4590-9bab-e60fed136d74"
      },
      "outputs": [
        {
          "output_type": "execute_result",
          "data": {
            "text/plain": [
              "'personas ideas cosas peces muercielagos'"
            ],
            "application/vnd.google.colaboratory.intrinsic+json": {
              "type": "string"
            }
          },
          "metadata": {},
          "execution_count": 6
        }
      ],
      "source": [
        "text = \"personas Ideas! estás cosas y los peces y los muercielagos\"\n",
        "\n",
        "    \n",
        "# Antes de preprocesar los datos se pasa a mínusculas todo el texto\n",
        "preprocess_clean_text(text.lower())\n"
      ]
    },
    {
      "cell_type": "code",
      "execution_count": 7,
      "metadata": {
        "id": "I9V-S8JbrtNn",
        "colab": {
          "base_uri": "https://localhost:8080/"
        },
        "outputId": "28f95810-d4c4-4802-e5c5-5c0dd8fa0942"
      },
      "outputs": [
        {
          "output_type": "stream",
          "name": "stdout",
          "text": [
            "tokens: hola personas ideas cosas peces muercielagos\n",
            "Lematización de cada token:\n",
            "[hola, 'holar']\n",
            "[personas, 'persona']\n",
            "[ideas, 'idea']\n",
            "[cosas, 'cosa']\n",
            "[peces, 'pez']\n",
            "[muercielagos, 'muercielago']\n"
          ]
        }
      ],
      "source": [
        "# Ejemplo de como fuciona\n",
        "text = \"hola personas Ideas! estás cosas y los peces y los muercielagos\"\n",
        "\n",
        "# Antes de preprocesar los datos se pasa a mínusculas todo el texto\n",
        "tokes = nlp(preprocess_clean_text(text.lower()))\n",
        "print(\"tokens:\", tokes)\n",
        "print(\"Lematización de cada token:\")\n",
        "for token in tokes:\n",
        "    print([token, token.lemma_])"
      ]
    },
    {
      "cell_type": "markdown",
      "metadata": {
        "id": "ilRbn0KfMm2r"
      },
      "source": [
        "### 3 - Diccionario de entrada"
      ]
    },
    {
      "cell_type": "code",
      "execution_count": 8,
      "metadata": {
        "id": "NgIGpjymNEH7"
      },
      "outputs": [],
      "source": [
        "# Dataset en formato JSON que representa las posibles preguntas (patterns)\n",
        "# y las posibles respuestas por categoría (tag)\n",
        "dataset = {\"intents\": [\n",
        "             {\"tag\": \"bienvenida\",\n",
        "              \"patterns\": [\"Hola\", \"¿Cómo estás?\", \"¿Qué tal?\", \"¿Hay alguien ahí?\", \"Buenos días\", \"Buenas tardes\", \"Buenas noches\", \"Buenas\"],\n",
        "              \"responses\": [\"Hola!\", \"Hola, ¿Cómo estás?\"],\n",
        "             },\n",
        "             {\"tag\": \"nombre\",\n",
        "              \"patterns\": [\"¿Cúal es tu nombre?\", \"¿Quién sos?\"],\n",
        "              \"responses\": [\"Mi nombre es TiendaPro\", \"Yo soy TiendaPro\"]\n",
        "             },\n",
        "            {\"tag\": \"contacto\",\n",
        "              \"patterns\": [\"contacto\", \"número de contacto\", \"número de teléfono\", \"número de whatsapp\", \"whatsapp\"],\n",
        "              \"responses\": [\"Podes contactarnos al siguiente <numero>\", \"Contactos al whatsapp <numero>\"]\n",
        "             },\n",
        "            {\"tag\": \"envios\",\n",
        "              \"patterns\": [\"¿Realizan envios?\", \"¿Cómo me llega el paquete?\"],\n",
        "              \"responses\": [\"Tenemos diferentes formas de envios según la zona, te recomiendo entrar a este <link>\"]\n",
        "             },\n",
        "            {\"tag\": \"precios\",\n",
        "              \"patterns\": [\"precio\", \"Me podrás pasar los precios\", \"¿Cuánto vale?\", \"¿Cuánto sale?\"],\n",
        "              \"responses\": [\"En el siguiente link podrás encontrar los precios de todos nuestros productos en stock\"]\n",
        "             },\n",
        "            {\"tag\": \"pagos\",\n",
        "              \"patterns\": [\"medios de pago\", \"tarjeta de crédito\", \"tarjetas\", \"cuotas\"],\n",
        "              \"responses\": [\"En el siguiente link podrás encontrar los beneficios y formas de pago vigentes\"]\n",
        "             },\n",
        "            {\"tag\": \"stock\",\n",
        "              \"patterns\": [\"Esto está disponible\", \"¿Tenes stock?\", \"¿Hay stock hoy?\"],\n",
        "              \"responses\": [\"Los productos publicados están en stock\"]\n",
        "             },\n",
        "            {\"tag\": \"agradecimientos\",\n",
        "              \"patterns\": [ \"Muchas gracias\", \"Gracias\"],\n",
        "              \"responses\": [\"Por nada!, cualquier otra consulta podes escribirme\"]\n",
        "             },\n",
        "             {\"tag\": \"despedida\",\n",
        "              \"patterns\": [ \"Chau\", \"Hasta luego!\", \"Nos vemos\", \"saludos!\"],\n",
        "              \"responses\": [\"Hasta luego!\", \"Hablamos luego!\"]\n",
        "             }\n",
        "]}"
      ]
    },
    {
      "cell_type": "markdown",
      "metadata": {
        "id": "19PEDmIDfLRu"
      },
      "source": [
        "### 4 - Preprocesamiento y armado del dataset"
      ]
    },
    {
      "cell_type": "code",
      "execution_count": 9,
      "metadata": {
        "id": "b3HP8abHNRk3"
      },
      "outputs": [],
      "source": [
        "# Datos que necesitaremos, las palabras o vocabilario\n",
        "words = []\n",
        "classes = []\n",
        "doc_X = []\n",
        "doc_y = []\n",
        "\n",
        "# Por cada intención (intents) debemos tomar los patrones que la caracterízan\n",
        "# a esa intención y transformarla a tokens para lamacenar en doc_X\n",
        "\n",
        "# El tag de cada intención se almacena como doc_Y (la clase a predecir)\n",
        "\n",
        "for intent in dataset[\"intents\"]:\n",
        "    for pattern in intent[\"patterns\"]:\n",
        "        # trasformar el patron a tokens\n",
        "        tokens = nlp(preprocess_clean_text(pattern.lower()))\n",
        "        # lematizar los tokens\n",
        "        for token in tokens:            \n",
        "            words.append(token.lemma_)\n",
        "        \n",
        "        doc_X.append(pattern)\n",
        "        doc_y.append(intent[\"tag\"])\n",
        "    \n",
        "    # Agregar el tag a las clases\n",
        "    if intent[\"tag\"] not in classes:\n",
        "        classes.append(intent[\"tag\"])\n",
        "\n",
        "# Elminar duplicados con \"set\" y ordenar el vocubulario y las clases por orden alfabético\n",
        "words = sorted(set(words))\n",
        "classes = sorted(set(classes))"
      ]
    },
    {
      "cell_type": "code",
      "execution_count": 10,
      "metadata": {
        "id": "Acy-gcugNbMH",
        "colab": {
          "base_uri": "https://localhost:8080/"
        },
        "outputId": "d7d8d3b0-610d-445c-ad9b-4e9dbad468e8"
      },
      "outputs": [
        {
          "output_type": "stream",
          "name": "stdout",
          "text": [
            "words: ['chau', 'contacto', 'credito', 'cuanto', 'cuota', 'disponible', 'envio', 'gracias', 'holar', 'hoy', 'llegar', 'luego', 'medio', 'mucho', 'nombre', 'numerar', 'numero', 'pago', 'paquete', 'pasar', 'poder', 'precio', 'realizar', 'salir', 'ser', 'stock', 'tal', 'tarjeta', 'telefono', 'tener', 'valer', 'whatsapp']\n",
            "classes: ['agradecimientos', 'bienvenida', 'contacto', 'despedida', 'envios', 'nombre', 'pagos', 'precios', 'stock']\n",
            "doc_X: ['Hola', '¿Cómo estás?', '¿Qué tal?', '¿Cúal es tu nombre?', '¿Quién sos?', 'contacto', 'número de contacto', 'número de teléfono', 'número de whatsapp', 'whatsapp', '¿Realizan envios?', '¿Cómo me llega el paquete?', 'precio', 'Me podrás pasar los precios', '¿Cuánto vale?', '¿Cuánto sale?', 'medios de pago', 'tarjeta de crédito', 'tarjetas', 'cuotas', 'Esto está disponible', '¿Tenes stock?', '¿Hay stock hoy?', 'Muchas gracias', 'Gracias', 'Chau', 'Hasta luego!']\n",
            "doc_y: ['bienvenida', 'bienvenida', 'bienvenida', 'nombre', 'nombre', 'contacto', 'contacto', 'contacto', 'contacto', 'contacto', 'envios', 'envios', 'precios', 'precios', 'precios', 'precios', 'pagos', 'pagos', 'pagos', 'pagos', 'stock', 'stock', 'stock', 'agradecimientos', 'agradecimientos', 'despedida', 'despedida']\n"
          ]
        }
      ],
      "source": [
        "print(\"words:\", words)\n",
        "print(\"classes:\", classes)\n",
        "print(\"doc_X:\", doc_X)\n",
        "print(\"doc_y:\", doc_y)"
      ]
    },
    {
      "cell_type": "code",
      "execution_count": 11,
      "metadata": {
        "id": "YI0L2U7IQcvy",
        "colab": {
          "base_uri": "https://localhost:8080/"
        },
        "outputId": "1b65a041-61c3-4b0a-9ee2-38e97f14dbe2"
      },
      "outputs": [
        {
          "output_type": "stream",
          "name": "stdout",
          "text": [
            "Vocabulario: 32\n"
          ]
        }
      ],
      "source": [
        "# Tamaño del vocabulario\n",
        "print(\"Vocabulario:\", len(words))"
      ]
    },
    {
      "cell_type": "code",
      "execution_count": 12,
      "metadata": {
        "id": "hqBeGKRk_q4r",
        "colab": {
          "base_uri": "https://localhost:8080/"
        },
        "outputId": "f90936b2-4d1d-443b-a095-a26452e6dda8"
      },
      "outputs": [
        {
          "output_type": "stream",
          "name": "stdout",
          "text": [
            "Tags: 9\n"
          ]
        }
      ],
      "source": [
        "# Cantidad de tags\n",
        "print(\"Tags:\", len(classes))"
      ]
    },
    {
      "cell_type": "code",
      "execution_count": 13,
      "metadata": {
        "id": "vpbJ0guPN2Uq",
        "colab": {
          "base_uri": "https://localhost:8080/"
        },
        "outputId": "66c3a82d-497c-4d46-cf56-a63659cac0a5"
      },
      "outputs": [
        {
          "output_type": "stream",
          "name": "stdout",
          "text": [
            "['holar']\n",
            "X: [0, 0, 0, 0, 0, 0, 0, 0, 1, 0, 0, 0, 0, 0, 0, 0, 0, 0, 0, 0, 0, 0, 0, 0, 0, 0, 0, 0, 0, 0, 0, 0] y: [0, 1, 0, 0, 0, 0, 0, 0, 0]\n",
            "[]\n",
            "X: [0, 0, 0, 0, 0, 0, 0, 0, 0, 0, 0, 0, 0, 0, 0, 0, 0, 0, 0, 0, 0, 0, 0, 0, 0, 0, 0, 0, 0, 0, 0, 0] y: [0, 1, 0, 0, 0, 0, 0, 0, 0]\n",
            "['tal']\n",
            "X: [0, 0, 0, 0, 0, 0, 0, 0, 0, 0, 0, 0, 0, 0, 0, 0, 0, 0, 0, 0, 0, 0, 0, 0, 0, 0, 1, 0, 0, 0, 0, 0] y: [0, 1, 0, 0, 0, 0, 0, 0, 0]\n",
            "['nombre']\n",
            "X: [0, 0, 0, 0, 0, 0, 0, 0, 0, 0, 0, 0, 0, 0, 1, 0, 0, 0, 0, 0, 0, 0, 0, 0, 0, 0, 0, 0, 0, 0, 0, 0] y: [0, 0, 0, 0, 0, 1, 0, 0, 0]\n",
            "['ser']\n",
            "X: [0, 0, 0, 0, 0, 0, 0, 0, 0, 0, 0, 0, 0, 0, 0, 0, 0, 0, 0, 0, 0, 0, 0, 0, 1, 0, 0, 0, 0, 0, 0, 0] y: [0, 0, 0, 0, 0, 1, 0, 0, 0]\n",
            "['contacto']\n",
            "X: [0, 1, 0, 0, 0, 0, 0, 0, 0, 0, 0, 0, 0, 0, 0, 0, 0, 0, 0, 0, 0, 0, 0, 0, 0, 0, 0, 0, 0, 0, 0, 0] y: [0, 0, 1, 0, 0, 0, 0, 0, 0]\n",
            "['numerar', 'contacto']\n",
            "X: [0, 1, 0, 0, 0, 0, 0, 0, 0, 0, 0, 0, 0, 0, 0, 1, 0, 0, 0, 0, 0, 0, 0, 0, 0, 0, 0, 0, 0, 0, 0, 0] y: [0, 0, 1, 0, 0, 0, 0, 0, 0]\n",
            "['numero', 'telefono']\n",
            "X: [0, 0, 0, 0, 0, 0, 0, 0, 0, 0, 0, 0, 0, 0, 0, 0, 1, 0, 0, 0, 0, 0, 0, 0, 0, 0, 0, 0, 1, 0, 0, 0] y: [0, 0, 1, 0, 0, 0, 0, 0, 0]\n",
            "['numero', 'whatsapp']\n",
            "X: [0, 0, 0, 0, 0, 0, 0, 0, 0, 0, 0, 0, 0, 0, 0, 0, 1, 0, 0, 0, 0, 0, 0, 0, 0, 0, 0, 0, 0, 0, 0, 1] y: [0, 0, 1, 0, 0, 0, 0, 0, 0]\n",
            "['whatsapp']\n",
            "X: [0, 0, 0, 0, 0, 0, 0, 0, 0, 0, 0, 0, 0, 0, 0, 0, 0, 0, 0, 0, 0, 0, 0, 0, 0, 0, 0, 0, 0, 0, 0, 1] y: [0, 0, 1, 0, 0, 0, 0, 0, 0]\n",
            "['realizar', 'envio']\n",
            "X: [0, 0, 0, 0, 0, 0, 1, 0, 0, 0, 0, 0, 0, 0, 0, 0, 0, 0, 0, 0, 0, 0, 1, 0, 0, 0, 0, 0, 0, 0, 0, 0] y: [0, 0, 0, 0, 1, 0, 0, 0, 0]\n",
            "['llegar', 'paquete']\n",
            "X: [0, 0, 0, 0, 0, 0, 0, 0, 0, 0, 1, 0, 0, 0, 0, 0, 0, 0, 1, 0, 0, 0, 0, 0, 0, 0, 0, 0, 0, 0, 0, 0] y: [0, 0, 0, 0, 1, 0, 0, 0, 0]\n",
            "['precio']\n",
            "X: [0, 0, 0, 0, 0, 0, 0, 0, 0, 0, 0, 0, 0, 0, 0, 0, 0, 0, 0, 0, 0, 1, 0, 0, 0, 0, 0, 0, 0, 0, 0, 0] y: [0, 0, 0, 0, 0, 0, 0, 1, 0]\n",
            "['poder', 'pasar', 'precio']\n",
            "X: [0, 0, 0, 0, 0, 0, 0, 0, 0, 0, 0, 0, 0, 0, 0, 0, 0, 0, 0, 1, 1, 1, 0, 0, 0, 0, 0, 0, 0, 0, 0, 0] y: [0, 0, 0, 0, 0, 0, 0, 1, 0]\n",
            "['cuanto', 'valer']\n",
            "X: [0, 0, 0, 1, 0, 0, 0, 0, 0, 0, 0, 0, 0, 0, 0, 0, 0, 0, 0, 0, 0, 0, 0, 0, 0, 0, 0, 0, 0, 0, 1, 0] y: [0, 0, 0, 0, 0, 0, 0, 1, 0]\n",
            "['cuanto', 'salir']\n",
            "X: [0, 0, 0, 1, 0, 0, 0, 0, 0, 0, 0, 0, 0, 0, 0, 0, 0, 0, 0, 0, 0, 0, 0, 1, 0, 0, 0, 0, 0, 0, 0, 0] y: [0, 0, 0, 0, 0, 0, 0, 1, 0]\n",
            "['medio', 'pago']\n",
            "X: [0, 0, 0, 0, 0, 0, 0, 0, 0, 0, 0, 0, 1, 0, 0, 0, 0, 1, 0, 0, 0, 0, 0, 0, 0, 0, 0, 0, 0, 0, 0, 0] y: [0, 0, 0, 0, 0, 0, 1, 0, 0]\n",
            "['tarjeta', 'credito']\n",
            "X: [0, 0, 1, 0, 0, 0, 0, 0, 0, 0, 0, 0, 0, 0, 0, 0, 0, 0, 0, 0, 0, 0, 0, 0, 0, 0, 0, 1, 0, 0, 0, 0] y: [0, 0, 0, 0, 0, 0, 1, 0, 0]\n",
            "['tarjeta']\n",
            "X: [0, 0, 0, 0, 0, 0, 0, 0, 0, 0, 0, 0, 0, 0, 0, 0, 0, 0, 0, 0, 0, 0, 0, 0, 0, 0, 0, 1, 0, 0, 0, 0] y: [0, 0, 0, 0, 0, 0, 1, 0, 0]\n",
            "['cuota']\n",
            "X: [0, 0, 0, 0, 1, 0, 0, 0, 0, 0, 0, 0, 0, 0, 0, 0, 0, 0, 0, 0, 0, 0, 0, 0, 0, 0, 0, 0, 0, 0, 0, 0] y: [0, 0, 0, 0, 0, 0, 1, 0, 0]\n",
            "['disponible']\n",
            "X: [0, 0, 0, 0, 0, 1, 0, 0, 0, 0, 0, 0, 0, 0, 0, 0, 0, 0, 0, 0, 0, 0, 0, 0, 0, 0, 0, 0, 0, 0, 0, 0] y: [0, 0, 0, 0, 0, 0, 0, 0, 1]\n",
            "['tener', 'stock']\n",
            "X: [0, 0, 0, 0, 0, 0, 0, 0, 0, 0, 0, 0, 0, 0, 0, 0, 0, 0, 0, 0, 0, 0, 0, 0, 0, 1, 0, 0, 0, 1, 0, 0] y: [0, 0, 0, 0, 0, 0, 0, 0, 1]\n",
            "['stock', 'hoy']\n",
            "X: [0, 0, 0, 0, 0, 0, 0, 0, 0, 1, 0, 0, 0, 0, 0, 0, 0, 0, 0, 0, 0, 0, 0, 0, 0, 1, 0, 0, 0, 0, 0, 0] y: [0, 0, 0, 0, 0, 0, 0, 0, 1]\n",
            "['mucho', 'gracias']\n",
            "X: [0, 0, 0, 0, 0, 0, 0, 1, 0, 0, 0, 0, 0, 1, 0, 0, 0, 0, 0, 0, 0, 0, 0, 0, 0, 0, 0, 0, 0, 0, 0, 0] y: [1, 0, 0, 0, 0, 0, 0, 0, 0]\n",
            "['gracias']\n",
            "X: [0, 0, 0, 0, 0, 0, 0, 1, 0, 0, 0, 0, 0, 0, 0, 0, 0, 0, 0, 0, 0, 0, 0, 0, 0, 0, 0, 0, 0, 0, 0, 0] y: [1, 0, 0, 0, 0, 0, 0, 0, 0]\n",
            "['chau']\n",
            "X: [1, 0, 0, 0, 0, 0, 0, 0, 0, 0, 0, 0, 0, 0, 0, 0, 0, 0, 0, 0, 0, 0, 0, 0, 0, 0, 0, 0, 0, 0, 0, 0] y: [0, 0, 0, 1, 0, 0, 0, 0, 0]\n",
            "['luego']\n",
            "X: [0, 0, 0, 0, 0, 0, 0, 0, 0, 0, 0, 1, 0, 0, 0, 0, 0, 0, 0, 0, 0, 0, 0, 0, 0, 0, 0, 0, 0, 0, 0, 0] y: [0, 0, 0, 1, 0, 0, 0, 0, 0]\n"
          ]
        }
      ],
      "source": [
        "# Transformar doc_X en bag of words por oneHotEncoding\n",
        "# Transformar doc_Y en un vector de clases multicategórico con oneHotEncoding\n",
        "\n",
        "training = []\n",
        "out_empty = [0] * len(classes)\n",
        "\n",
        "for idx, doc in enumerate(doc_X):\n",
        "    # Transformar la pregunta (input) en tokens y lematizar\n",
        "    text = []\n",
        "    tokens = nlp(preprocess_clean_text(doc.lower()))\n",
        "    for token in tokens:\n",
        "        text.append(token.lemma_)\n",
        "\n",
        "    # Transformar los tokens en \"Bag of words\" (arrays de 1 y 0)\n",
        "    bow = []\n",
        "    freq = []\n",
        "    print(text)\n",
        "    for word in words:\n",
        "      \n",
        "      bow.append(1) if word in text else bow.append(0)\n",
        "      \n",
        "\n",
        "    \n",
        "    # Crear el array de salida (class output) correspondiente\n",
        "    output_row = list(out_empty)\n",
        "    output_row[classes.index(doc_y[idx])] = 1\n",
        "\n",
        "    print(\"X:\", bow, \"y:\", output_row)\n",
        "    training.append([bow, output_row])\n",
        "\n",
        "# Mezclar los datos\n",
        "random.shuffle(training)\n",
        "training = np.array(training, dtype=object)\n",
        "# Dividir en datos de entrada y salida\n",
        "train_X = np.array(list(training[:, 0]))\n",
        "train_y = np.array(list(training[:, 1]))"
      ]
    },
    {
      "cell_type": "markdown",
      "metadata": {
        "id": "a_Hr8QaDfRf3"
      },
      "source": [
        "### 5 - Entrenamiento del modelo"
      ]
    },
    {
      "cell_type": "code",
      "execution_count": 14,
      "metadata": {
        "id": "fopb3NqcAGTz",
        "colab": {
          "base_uri": "https://localhost:8080/"
        },
        "outputId": "bd97eb14-2ce2-4d19-9deb-8b9cd38e622b"
      },
      "outputs": [
        {
          "output_type": "stream",
          "name": "stdout",
          "text": [
            "input: (32,) output: 9\n"
          ]
        }
      ],
      "source": [
        "# Shape de entrada y salida\n",
        "input_shape = (train_X.shape[1],)\n",
        "output_shape = train_y.shape[1]\n",
        "print(\"input:\", input_shape, \"output:\", output_shape)"
      ]
    },
    {
      "cell_type": "code",
      "execution_count": 15,
      "metadata": {
        "id": "xy7tzkwdOZx9",
        "colab": {
          "base_uri": "https://localhost:8080/"
        },
        "outputId": "b24664d3-b40a-47f9-c490-82c9372aa68d"
      },
      "outputs": [
        {
          "output_type": "stream",
          "name": "stdout",
          "text": [
            "Model: \"sequential\"\n",
            "_________________________________________________________________\n",
            " Layer (type)                Output Shape              Param #   \n",
            "=================================================================\n",
            " dense (Dense)               (None, 128)               4224      \n",
            "                                                                 \n",
            " dropout (Dropout)           (None, 128)               0         \n",
            "                                                                 \n",
            " dense_1 (Dense)             (None, 64)                8256      \n",
            "                                                                 \n",
            " dropout_1 (Dropout)         (None, 64)                0         \n",
            "                                                                 \n",
            " dense_2 (Dense)             (None, 9)                 585       \n",
            "                                                                 \n",
            "=================================================================\n",
            "Total params: 13,065\n",
            "Trainable params: 13,065\n",
            "Non-trainable params: 0\n",
            "_________________________________________________________________\n",
            "None\n"
          ]
        }
      ],
      "source": [
        "# Entrenamiento del modelo DNN\n",
        "# - Modelo secuencial\n",
        "# - Con regularización\n",
        "# - softmax y optimizador Adam\n",
        "model = Sequential()\n",
        "model.add(Dense(128, input_shape=input_shape, activation=\"relu\"))\n",
        "model.add(Dropout(0.5))\n",
        "model.add(Dense(64, activation=\"relu\"))\n",
        "model.add(Dropout(0.5))\n",
        "model.add(Dense(output_shape, activation = \"softmax\"))\n",
        "\n",
        "model.compile(loss='categorical_crossentropy',\n",
        "              optimizer=\"Adam\",\n",
        "              metrics=[\"accuracy\"])\n",
        "print(model.summary())"
      ]
    },
    {
      "cell_type": "code",
      "execution_count": 16,
      "metadata": {
        "id": "r6hi4EcdOghm",
        "colab": {
          "base_uri": "https://localhost:8080/"
        },
        "outputId": "2f14e14c-2a57-4b53-b8ca-68f668a41d05"
      },
      "outputs": [
        {
          "output_type": "stream",
          "name": "stdout",
          "text": [
            "Epoch 1/200\n",
            "1/1 [==============================] - 1s 674ms/step - loss: 2.2194 - accuracy: 0.1481\n",
            "Epoch 2/200\n",
            "1/1 [==============================] - 0s 8ms/step - loss: 2.1880 - accuracy: 0.1111\n",
            "Epoch 3/200\n",
            "1/1 [==============================] - 0s 7ms/step - loss: 2.1838 - accuracy: 0.1481\n",
            "Epoch 4/200\n",
            "1/1 [==============================] - 0s 6ms/step - loss: 2.1663 - accuracy: 0.1852\n",
            "Epoch 5/200\n",
            "1/1 [==============================] - 0s 8ms/step - loss: 2.1713 - accuracy: 0.0741\n",
            "Epoch 6/200\n",
            "1/1 [==============================] - 0s 11ms/step - loss: 2.1581 - accuracy: 0.1481\n",
            "Epoch 7/200\n",
            "1/1 [==============================] - 0s 8ms/step - loss: 2.1587 - accuracy: 0.2222\n",
            "Epoch 8/200\n",
            "1/1 [==============================] - 0s 11ms/step - loss: 2.1208 - accuracy: 0.1852\n",
            "Epoch 9/200\n",
            "1/1 [==============================] - 0s 7ms/step - loss: 2.1618 - accuracy: 0.1852\n",
            "Epoch 10/200\n",
            "1/1 [==============================] - 0s 8ms/step - loss: 2.1494 - accuracy: 0.1111\n",
            "Epoch 11/200\n",
            "1/1 [==============================] - 0s 7ms/step - loss: 2.1563 - accuracy: 0.1481\n",
            "Epoch 12/200\n",
            "1/1 [==============================] - 0s 8ms/step - loss: 2.0900 - accuracy: 0.1852\n",
            "Epoch 13/200\n",
            "1/1 [==============================] - 0s 8ms/step - loss: 2.1284 - accuracy: 0.1481\n",
            "Epoch 14/200\n",
            "1/1 [==============================] - 0s 6ms/step - loss: 2.1504 - accuracy: 0.2593\n",
            "Epoch 15/200\n",
            "1/1 [==============================] - 0s 6ms/step - loss: 2.1366 - accuracy: 0.2593\n",
            "Epoch 16/200\n",
            "1/1 [==============================] - 0s 8ms/step - loss: 2.0738 - accuracy: 0.3333\n",
            "Epoch 17/200\n",
            "1/1 [==============================] - 0s 8ms/step - loss: 2.1266 - accuracy: 0.2222\n",
            "Epoch 18/200\n",
            "1/1 [==============================] - 0s 6ms/step - loss: 2.0492 - accuracy: 0.2222\n",
            "Epoch 19/200\n",
            "1/1 [==============================] - 0s 8ms/step - loss: 2.0232 - accuracy: 0.3704\n",
            "Epoch 20/200\n",
            "1/1 [==============================] - 0s 6ms/step - loss: 2.0551 - accuracy: 0.2963\n",
            "Epoch 21/200\n",
            "1/1 [==============================] - 0s 8ms/step - loss: 1.9973 - accuracy: 0.3333\n",
            "Epoch 22/200\n",
            "1/1 [==============================] - 0s 10ms/step - loss: 1.9653 - accuracy: 0.3333\n",
            "Epoch 23/200\n",
            "1/1 [==============================] - 0s 9ms/step - loss: 2.0738 - accuracy: 0.2593\n",
            "Epoch 24/200\n",
            "1/1 [==============================] - 0s 7ms/step - loss: 1.9955 - accuracy: 0.2963\n",
            "Epoch 25/200\n",
            "1/1 [==============================] - 0s 7ms/step - loss: 1.9761 - accuracy: 0.4074\n",
            "Epoch 26/200\n",
            "1/1 [==============================] - 0s 8ms/step - loss: 2.0313 - accuracy: 0.1852\n",
            "Epoch 27/200\n",
            "1/1 [==============================] - 0s 7ms/step - loss: 1.9317 - accuracy: 0.4444\n",
            "Epoch 28/200\n",
            "1/1 [==============================] - 0s 7ms/step - loss: 1.9411 - accuracy: 0.5926\n",
            "Epoch 29/200\n",
            "1/1 [==============================] - 0s 6ms/step - loss: 1.9657 - accuracy: 0.4074\n",
            "Epoch 30/200\n",
            "1/1 [==============================] - 0s 17ms/step - loss: 1.9625 - accuracy: 0.3333\n",
            "Epoch 31/200\n",
            "1/1 [==============================] - 0s 7ms/step - loss: 1.9837 - accuracy: 0.2963\n",
            "Epoch 32/200\n",
            "1/1 [==============================] - 0s 7ms/step - loss: 1.9193 - accuracy: 0.4074\n",
            "Epoch 33/200\n",
            "1/1 [==============================] - 0s 7ms/step - loss: 1.9502 - accuracy: 0.4815\n",
            "Epoch 34/200\n",
            "1/1 [==============================] - 0s 10ms/step - loss: 1.9195 - accuracy: 0.4074\n",
            "Epoch 35/200\n",
            "1/1 [==============================] - 0s 6ms/step - loss: 1.8802 - accuracy: 0.3704\n",
            "Epoch 36/200\n",
            "1/1 [==============================] - 0s 8ms/step - loss: 1.8512 - accuracy: 0.4815\n",
            "Epoch 37/200\n",
            "1/1 [==============================] - 0s 7ms/step - loss: 1.8944 - accuracy: 0.4444\n",
            "Epoch 38/200\n",
            "1/1 [==============================] - 0s 7ms/step - loss: 1.9241 - accuracy: 0.4815\n",
            "Epoch 39/200\n",
            "1/1 [==============================] - 0s 10ms/step - loss: 1.7983 - accuracy: 0.5556\n",
            "Epoch 40/200\n",
            "1/1 [==============================] - 0s 15ms/step - loss: 1.8638 - accuracy: 0.4074\n",
            "Epoch 41/200\n",
            "1/1 [==============================] - 0s 15ms/step - loss: 1.8707 - accuracy: 0.4444\n",
            "Epoch 42/200\n",
            "1/1 [==============================] - 0s 8ms/step - loss: 1.8412 - accuracy: 0.5556\n",
            "Epoch 43/200\n",
            "1/1 [==============================] - 0s 9ms/step - loss: 1.7406 - accuracy: 0.5185\n",
            "Epoch 44/200\n",
            "1/1 [==============================] - 0s 8ms/step - loss: 1.7661 - accuracy: 0.5185\n",
            "Epoch 45/200\n",
            "1/1 [==============================] - 0s 8ms/step - loss: 1.7642 - accuracy: 0.5185\n",
            "Epoch 46/200\n",
            "1/1 [==============================] - 0s 10ms/step - loss: 1.7137 - accuracy: 0.5556\n",
            "Epoch 47/200\n",
            "1/1 [==============================] - 0s 5ms/step - loss: 1.6800 - accuracy: 0.5556\n",
            "Epoch 48/200\n",
            "1/1 [==============================] - 0s 8ms/step - loss: 1.7386 - accuracy: 0.5185\n",
            "Epoch 49/200\n",
            "1/1 [==============================] - 0s 7ms/step - loss: 1.6898 - accuracy: 0.5556\n",
            "Epoch 50/200\n",
            "1/1 [==============================] - 0s 8ms/step - loss: 1.7106 - accuracy: 0.4815\n",
            "Epoch 51/200\n",
            "1/1 [==============================] - 0s 7ms/step - loss: 1.6862 - accuracy: 0.4815\n",
            "Epoch 52/200\n",
            "1/1 [==============================] - 0s 12ms/step - loss: 1.7152 - accuracy: 0.5926\n",
            "Epoch 53/200\n",
            "1/1 [==============================] - 0s 8ms/step - loss: 1.7434 - accuracy: 0.4444\n",
            "Epoch 54/200\n",
            "1/1 [==============================] - 0s 6ms/step - loss: 1.7040 - accuracy: 0.5926\n",
            "Epoch 55/200\n",
            "1/1 [==============================] - 0s 6ms/step - loss: 1.6941 - accuracy: 0.5926\n",
            "Epoch 56/200\n",
            "1/1 [==============================] - 0s 10ms/step - loss: 1.6946 - accuracy: 0.4815\n",
            "Epoch 57/200\n",
            "1/1 [==============================] - 0s 6ms/step - loss: 1.5692 - accuracy: 0.4815\n",
            "Epoch 58/200\n",
            "1/1 [==============================] - 0s 4ms/step - loss: 1.5930 - accuracy: 0.5556\n",
            "Epoch 59/200\n",
            "1/1 [==============================] - 0s 5ms/step - loss: 1.6345 - accuracy: 0.5556\n",
            "Epoch 60/200\n",
            "1/1 [==============================] - 0s 9ms/step - loss: 1.5270 - accuracy: 0.6667\n",
            "Epoch 61/200\n",
            "1/1 [==============================] - 0s 7ms/step - loss: 1.4981 - accuracy: 0.5926\n",
            "Epoch 62/200\n",
            "1/1 [==============================] - 0s 6ms/step - loss: 1.6380 - accuracy: 0.4444\n",
            "Epoch 63/200\n",
            "1/1 [==============================] - 0s 6ms/step - loss: 1.5536 - accuracy: 0.5926\n",
            "Epoch 64/200\n",
            "1/1 [==============================] - 0s 7ms/step - loss: 1.4816 - accuracy: 0.6296\n",
            "Epoch 65/200\n",
            "1/1 [==============================] - 0s 13ms/step - loss: 1.5298 - accuracy: 0.6296\n",
            "Epoch 66/200\n",
            "1/1 [==============================] - 0s 6ms/step - loss: 1.4828 - accuracy: 0.5556\n",
            "Epoch 67/200\n",
            "1/1 [==============================] - 0s 6ms/step - loss: 1.5903 - accuracy: 0.4815\n",
            "Epoch 68/200\n",
            "1/1 [==============================] - 0s 10ms/step - loss: 1.4726 - accuracy: 0.7037\n",
            "Epoch 69/200\n",
            "1/1 [==============================] - 0s 7ms/step - loss: 1.5468 - accuracy: 0.5556\n",
            "Epoch 70/200\n",
            "1/1 [==============================] - 0s 6ms/step - loss: 1.4706 - accuracy: 0.5556\n",
            "Epoch 71/200\n",
            "1/1 [==============================] - 0s 6ms/step - loss: 1.3823 - accuracy: 0.8148\n",
            "Epoch 72/200\n",
            "1/1 [==============================] - 0s 6ms/step - loss: 1.4620 - accuracy: 0.6296\n",
            "Epoch 73/200\n",
            "1/1 [==============================] - 0s 7ms/step - loss: 1.3843 - accuracy: 0.7407\n",
            "Epoch 74/200\n",
            "1/1 [==============================] - 0s 8ms/step - loss: 1.2886 - accuracy: 0.7037\n",
            "Epoch 75/200\n",
            "1/1 [==============================] - 0s 5ms/step - loss: 1.3438 - accuracy: 0.7037\n",
            "Epoch 76/200\n",
            "1/1 [==============================] - 0s 5ms/step - loss: 1.3192 - accuracy: 0.6296\n",
            "Epoch 77/200\n",
            "1/1 [==============================] - 0s 9ms/step - loss: 1.2586 - accuracy: 0.7037\n",
            "Epoch 78/200\n",
            "1/1 [==============================] - 0s 5ms/step - loss: 1.4228 - accuracy: 0.5185\n",
            "Epoch 79/200\n",
            "1/1 [==============================] - 0s 5ms/step - loss: 1.2157 - accuracy: 0.7037\n",
            "Epoch 80/200\n",
            "1/1 [==============================] - 0s 6ms/step - loss: 1.3471 - accuracy: 0.6667\n",
            "Epoch 81/200\n",
            "1/1 [==============================] - 0s 7ms/step - loss: 1.3708 - accuracy: 0.6296\n",
            "Epoch 82/200\n",
            "1/1 [==============================] - 0s 8ms/step - loss: 1.2797 - accuracy: 0.6667\n",
            "Epoch 83/200\n",
            "1/1 [==============================] - 0s 7ms/step - loss: 1.1737 - accuracy: 0.7778\n",
            "Epoch 84/200\n",
            "1/1 [==============================] - 0s 10ms/step - loss: 1.2700 - accuracy: 0.7037\n",
            "Epoch 85/200\n",
            "1/1 [==============================] - 0s 6ms/step - loss: 1.1776 - accuracy: 0.7037\n",
            "Epoch 86/200\n",
            "1/1 [==============================] - 0s 9ms/step - loss: 1.3135 - accuracy: 0.6667\n",
            "Epoch 87/200\n",
            "1/1 [==============================] - 0s 9ms/step - loss: 1.2543 - accuracy: 0.6667\n",
            "Epoch 88/200\n",
            "1/1 [==============================] - 0s 9ms/step - loss: 1.1587 - accuracy: 0.7407\n",
            "Epoch 89/200\n",
            "1/1 [==============================] - 0s 6ms/step - loss: 1.2347 - accuracy: 0.7407\n",
            "Epoch 90/200\n",
            "1/1 [==============================] - 0s 9ms/step - loss: 1.1892 - accuracy: 0.7037\n",
            "Epoch 91/200\n",
            "1/1 [==============================] - 0s 7ms/step - loss: 1.0879 - accuracy: 0.7407\n",
            "Epoch 92/200\n",
            "1/1 [==============================] - 0s 9ms/step - loss: 0.9674 - accuracy: 0.8519\n",
            "Epoch 93/200\n",
            "1/1 [==============================] - 0s 7ms/step - loss: 1.0810 - accuracy: 0.7407\n",
            "Epoch 94/200\n",
            "1/1 [==============================] - 0s 18ms/step - loss: 1.1351 - accuracy: 0.7778\n",
            "Epoch 95/200\n",
            "1/1 [==============================] - 0s 17ms/step - loss: 1.1480 - accuracy: 0.7778\n",
            "Epoch 96/200\n",
            "1/1 [==============================] - 0s 11ms/step - loss: 1.1280 - accuracy: 0.8148\n",
            "Epoch 97/200\n",
            "1/1 [==============================] - 0s 17ms/step - loss: 1.0170 - accuracy: 0.7407\n",
            "Epoch 98/200\n",
            "1/1 [==============================] - 0s 11ms/step - loss: 0.9554 - accuracy: 0.8519\n",
            "Epoch 99/200\n",
            "1/1 [==============================] - 0s 11ms/step - loss: 1.0310 - accuracy: 0.8148\n",
            "Epoch 100/200\n",
            "1/1 [==============================] - 0s 10ms/step - loss: 1.1652 - accuracy: 0.6296\n",
            "Epoch 101/200\n",
            "1/1 [==============================] - 0s 9ms/step - loss: 0.8990 - accuracy: 0.8519\n",
            "Epoch 102/200\n",
            "1/1 [==============================] - 0s 10ms/step - loss: 0.8945 - accuracy: 0.7778\n",
            "Epoch 103/200\n",
            "1/1 [==============================] - 0s 11ms/step - loss: 0.9599 - accuracy: 0.7037\n",
            "Epoch 104/200\n",
            "1/1 [==============================] - 0s 10ms/step - loss: 0.9941 - accuracy: 0.8148\n",
            "Epoch 105/200\n",
            "1/1 [==============================] - 0s 9ms/step - loss: 0.9529 - accuracy: 0.8519\n",
            "Epoch 106/200\n",
            "1/1 [==============================] - 0s 9ms/step - loss: 0.8396 - accuracy: 0.8148\n",
            "Epoch 107/200\n",
            "1/1 [==============================] - 0s 9ms/step - loss: 0.8588 - accuracy: 0.8148\n",
            "Epoch 108/200\n",
            "1/1 [==============================] - 0s 12ms/step - loss: 1.0486 - accuracy: 0.8148\n",
            "Epoch 109/200\n",
            "1/1 [==============================] - 0s 10ms/step - loss: 0.8471 - accuracy: 0.8519\n",
            "Epoch 110/200\n",
            "1/1 [==============================] - 0s 10ms/step - loss: 0.8927 - accuracy: 0.8519\n",
            "Epoch 111/200\n",
            "1/1 [==============================] - 0s 12ms/step - loss: 0.7652 - accuracy: 0.8889\n",
            "Epoch 112/200\n",
            "1/1 [==============================] - 0s 7ms/step - loss: 0.8252 - accuracy: 0.8889\n",
            "Epoch 113/200\n",
            "1/1 [==============================] - 0s 6ms/step - loss: 0.9636 - accuracy: 0.7407\n",
            "Epoch 114/200\n",
            "1/1 [==============================] - 0s 8ms/step - loss: 0.7823 - accuracy: 0.9259\n",
            "Epoch 115/200\n",
            "1/1 [==============================] - 0s 8ms/step - loss: 0.7769 - accuracy: 0.8519\n",
            "Epoch 116/200\n",
            "1/1 [==============================] - 0s 9ms/step - loss: 0.8710 - accuracy: 0.8519\n",
            "Epoch 117/200\n",
            "1/1 [==============================] - 0s 12ms/step - loss: 0.6866 - accuracy: 0.8148\n",
            "Epoch 118/200\n",
            "1/1 [==============================] - 0s 6ms/step - loss: 0.8177 - accuracy: 0.8519\n",
            "Epoch 119/200\n",
            "1/1 [==============================] - 0s 7ms/step - loss: 0.6820 - accuracy: 0.8889\n",
            "Epoch 120/200\n",
            "1/1 [==============================] - 0s 6ms/step - loss: 0.7168 - accuracy: 0.8519\n",
            "Epoch 121/200\n",
            "1/1 [==============================] - 0s 11ms/step - loss: 0.8062 - accuracy: 0.9259\n",
            "Epoch 122/200\n",
            "1/1 [==============================] - 0s 6ms/step - loss: 0.7305 - accuracy: 0.8889\n",
            "Epoch 123/200\n",
            "1/1 [==============================] - 0s 7ms/step - loss: 0.7847 - accuracy: 0.8519\n",
            "Epoch 124/200\n",
            "1/1 [==============================] - 0s 11ms/step - loss: 0.7174 - accuracy: 0.9259\n",
            "Epoch 125/200\n",
            "1/1 [==============================] - 0s 7ms/step - loss: 0.7412 - accuracy: 0.8889\n",
            "Epoch 126/200\n",
            "1/1 [==============================] - 0s 7ms/step - loss: 0.6937 - accuracy: 0.9259\n",
            "Epoch 127/200\n",
            "1/1 [==============================] - 0s 7ms/step - loss: 0.5995 - accuracy: 0.8889\n",
            "Epoch 128/200\n",
            "1/1 [==============================] - 0s 12ms/step - loss: 0.5867 - accuracy: 0.9630\n",
            "Epoch 129/200\n",
            "1/1 [==============================] - 0s 8ms/step - loss: 0.6727 - accuracy: 0.9259\n",
            "Epoch 130/200\n",
            "1/1 [==============================] - 0s 8ms/step - loss: 0.6782 - accuracy: 0.9259\n",
            "Epoch 131/200\n",
            "1/1 [==============================] - 0s 12ms/step - loss: 0.6252 - accuracy: 0.9630\n",
            "Epoch 132/200\n",
            "1/1 [==============================] - 0s 7ms/step - loss: 0.5320 - accuracy: 0.8889\n",
            "Epoch 133/200\n",
            "1/1 [==============================] - 0s 8ms/step - loss: 0.6866 - accuracy: 0.8519\n",
            "Epoch 134/200\n",
            "1/1 [==============================] - 0s 11ms/step - loss: 0.6388 - accuracy: 0.9259\n",
            "Epoch 135/200\n",
            "1/1 [==============================] - 0s 9ms/step - loss: 0.4608 - accuracy: 0.9259\n",
            "Epoch 136/200\n",
            "1/1 [==============================] - 0s 10ms/step - loss: 0.5275 - accuracy: 0.9259\n",
            "Epoch 137/200\n",
            "1/1 [==============================] - 0s 13ms/step - loss: 0.6004 - accuracy: 0.9630\n",
            "Epoch 138/200\n",
            "1/1 [==============================] - 0s 7ms/step - loss: 0.5439 - accuracy: 0.9259\n",
            "Epoch 139/200\n",
            "1/1 [==============================] - 0s 13ms/step - loss: 0.5278 - accuracy: 1.0000\n",
            "Epoch 140/200\n",
            "1/1 [==============================] - 0s 7ms/step - loss: 0.5379 - accuracy: 0.8889\n",
            "Epoch 141/200\n",
            "1/1 [==============================] - 0s 7ms/step - loss: 0.5654 - accuracy: 0.8889\n",
            "Epoch 142/200\n",
            "1/1 [==============================] - 0s 6ms/step - loss: 0.5738 - accuracy: 0.8889\n",
            "Epoch 143/200\n",
            "1/1 [==============================] - 0s 7ms/step - loss: 0.5541 - accuracy: 0.9259\n",
            "Epoch 144/200\n",
            "1/1 [==============================] - 0s 10ms/step - loss: 0.4919 - accuracy: 0.9259\n",
            "Epoch 145/200\n",
            "1/1 [==============================] - 0s 6ms/step - loss: 0.4872 - accuracy: 0.9630\n",
            "Epoch 146/200\n",
            "1/1 [==============================] - 0s 6ms/step - loss: 0.5342 - accuracy: 0.8889\n",
            "Epoch 147/200\n",
            "1/1 [==============================] - 0s 7ms/step - loss: 0.4933 - accuracy: 0.8889\n",
            "Epoch 148/200\n",
            "1/1 [==============================] - 0s 11ms/step - loss: 0.5543 - accuracy: 0.8148\n",
            "Epoch 149/200\n",
            "1/1 [==============================] - 0s 6ms/step - loss: 0.4286 - accuracy: 0.9630\n",
            "Epoch 150/200\n",
            "1/1 [==============================] - 0s 5ms/step - loss: 0.5449 - accuracy: 0.9630\n",
            "Epoch 151/200\n",
            "1/1 [==============================] - 0s 15ms/step - loss: 0.3999 - accuracy: 0.9259\n",
            "Epoch 152/200\n",
            "1/1 [==============================] - 0s 10ms/step - loss: 0.4417 - accuracy: 0.9259\n",
            "Epoch 153/200\n",
            "1/1 [==============================] - 0s 19ms/step - loss: 0.4231 - accuracy: 0.9259\n",
            "Epoch 154/200\n",
            "1/1 [==============================] - 0s 12ms/step - loss: 0.3800 - accuracy: 1.0000\n",
            "Epoch 155/200\n",
            "1/1 [==============================] - 0s 11ms/step - loss: 0.3478 - accuracy: 1.0000\n",
            "Epoch 156/200\n",
            "1/1 [==============================] - 0s 16ms/step - loss: 0.3692 - accuracy: 0.9630\n",
            "Epoch 157/200\n",
            "1/1 [==============================] - 0s 18ms/step - loss: 0.4681 - accuracy: 0.8889\n",
            "Epoch 158/200\n",
            "1/1 [==============================] - 0s 17ms/step - loss: 0.4013 - accuracy: 0.9630\n",
            "Epoch 159/200\n",
            "1/1 [==============================] - 0s 18ms/step - loss: 0.4330 - accuracy: 1.0000\n",
            "Epoch 160/200\n",
            "1/1 [==============================] - 0s 15ms/step - loss: 0.4689 - accuracy: 0.9630\n",
            "Epoch 161/200\n",
            "1/1 [==============================] - 0s 15ms/step - loss: 0.4370 - accuracy: 1.0000\n",
            "Epoch 162/200\n",
            "1/1 [==============================] - 0s 15ms/step - loss: 0.3099 - accuracy: 1.0000\n",
            "Epoch 163/200\n",
            "1/1 [==============================] - 0s 10ms/step - loss: 0.4784 - accuracy: 0.8889\n",
            "Epoch 164/200\n",
            "1/1 [==============================] - 0s 10ms/step - loss: 0.3776 - accuracy: 0.8889\n",
            "Epoch 165/200\n",
            "1/1 [==============================] - 0s 6ms/step - loss: 0.3229 - accuracy: 1.0000\n",
            "Epoch 166/200\n",
            "1/1 [==============================] - 0s 13ms/step - loss: 0.4676 - accuracy: 0.9259\n",
            "Epoch 167/200\n",
            "1/1 [==============================] - 0s 10ms/step - loss: 0.3328 - accuracy: 0.9630\n",
            "Epoch 168/200\n",
            "1/1 [==============================] - 0s 12ms/step - loss: 0.3671 - accuracy: 1.0000\n",
            "Epoch 169/200\n",
            "1/1 [==============================] - 0s 10ms/step - loss: 0.4254 - accuracy: 0.8889\n",
            "Epoch 170/200\n",
            "1/1 [==============================] - 0s 7ms/step - loss: 0.3826 - accuracy: 0.9630\n",
            "Epoch 171/200\n",
            "1/1 [==============================] - 0s 6ms/step - loss: 0.3802 - accuracy: 0.9630\n",
            "Epoch 172/200\n",
            "1/1 [==============================] - 0s 7ms/step - loss: 0.4559 - accuracy: 0.8148\n",
            "Epoch 173/200\n",
            "1/1 [==============================] - 0s 5ms/step - loss: 0.3782 - accuracy: 0.9630\n",
            "Epoch 174/200\n",
            "1/1 [==============================] - 0s 5ms/step - loss: 0.4720 - accuracy: 0.9630\n",
            "Epoch 175/200\n",
            "1/1 [==============================] - 0s 5ms/step - loss: 0.4157 - accuracy: 0.8889\n",
            "Epoch 176/200\n",
            "1/1 [==============================] - 0s 5ms/step - loss: 0.2666 - accuracy: 0.9630\n",
            "Epoch 177/200\n",
            "1/1 [==============================] - 0s 5ms/step - loss: 0.4330 - accuracy: 0.9259\n",
            "Epoch 178/200\n",
            "1/1 [==============================] - 0s 7ms/step - loss: 0.3260 - accuracy: 0.9630\n",
            "Epoch 179/200\n",
            "1/1 [==============================] - 0s 5ms/step - loss: 0.3919 - accuracy: 0.8889\n",
            "Epoch 180/200\n",
            "1/1 [==============================] - 0s 6ms/step - loss: 0.3043 - accuracy: 1.0000\n",
            "Epoch 181/200\n",
            "1/1 [==============================] - 0s 5ms/step - loss: 0.2897 - accuracy: 1.0000\n",
            "Epoch 182/200\n",
            "1/1 [==============================] - 0s 10ms/step - loss: 0.3263 - accuracy: 1.0000\n",
            "Epoch 183/200\n",
            "1/1 [==============================] - 0s 5ms/step - loss: 0.2781 - accuracy: 0.9630\n",
            "Epoch 184/200\n",
            "1/1 [==============================] - 0s 6ms/step - loss: 0.3368 - accuracy: 0.9630\n",
            "Epoch 185/200\n",
            "1/1 [==============================] - 0s 6ms/step - loss: 0.2609 - accuracy: 0.9259\n",
            "Epoch 186/200\n",
            "1/1 [==============================] - 0s 6ms/step - loss: 0.2991 - accuracy: 0.9630\n",
            "Epoch 187/200\n",
            "1/1 [==============================] - 0s 5ms/step - loss: 0.3056 - accuracy: 1.0000\n",
            "Epoch 188/200\n",
            "1/1 [==============================] - 0s 5ms/step - loss: 0.2857 - accuracy: 0.9630\n",
            "Epoch 189/200\n",
            "1/1 [==============================] - 0s 7ms/step - loss: 0.3201 - accuracy: 0.8889\n",
            "Epoch 190/200\n",
            "1/1 [==============================] - 0s 9ms/step - loss: 0.2271 - accuracy: 1.0000\n",
            "Epoch 191/200\n",
            "1/1 [==============================] - 0s 5ms/step - loss: 0.2812 - accuracy: 1.0000\n",
            "Epoch 192/200\n",
            "1/1 [==============================] - 0s 5ms/step - loss: 0.2840 - accuracy: 0.9259\n",
            "Epoch 193/200\n",
            "1/1 [==============================] - 0s 5ms/step - loss: 0.2996 - accuracy: 1.0000\n",
            "Epoch 194/200\n",
            "1/1 [==============================] - 0s 5ms/step - loss: 0.2520 - accuracy: 0.9630\n",
            "Epoch 195/200\n",
            "1/1 [==============================] - 0s 6ms/step - loss: 0.3481 - accuracy: 0.9630\n",
            "Epoch 196/200\n",
            "1/1 [==============================] - 0s 5ms/step - loss: 0.3497 - accuracy: 0.9259\n",
            "Epoch 197/200\n",
            "1/1 [==============================] - 0s 6ms/step - loss: 0.3912 - accuracy: 0.9259\n",
            "Epoch 198/200\n",
            "1/1 [==============================] - 0s 7ms/step - loss: 0.1597 - accuracy: 1.0000\n",
            "Epoch 199/200\n",
            "1/1 [==============================] - 0s 5ms/step - loss: 0.2334 - accuracy: 0.9630\n",
            "Epoch 200/200\n",
            "1/1 [==============================] - 0s 5ms/step - loss: 0.1706 - accuracy: 0.9630\n"
          ]
        }
      ],
      "source": [
        "hist = model.fit(x=train_X, y=train_y, epochs=200)"
      ]
    },
    {
      "cell_type": "code",
      "execution_count": 17,
      "metadata": {
        "id": "Pb1GZDjGRP6Q",
        "colab": {
          "base_uri": "https://localhost:8080/",
          "height": 265
        },
        "outputId": "32f01ee6-8480-40d4-e401-6c69e9f58405"
      },
      "outputs": [
        {
          "output_type": "display_data",
          "data": {
            "text/plain": [
              "<Figure size 432x288 with 1 Axes>"
            ],
            "image/png": "[encoded data removed]"
          },
          "metadata": {
            "needs_background": "light"
          }
        }
      ],
      "source": [
        "import matplotlib.pyplot as plt\n",
        "import seaborn as sns\n",
        "\n",
        "# Entrenamiento\n",
        "epoch_count = range(1, len(hist.history['accuracy']) + 1)\n",
        "sns.lineplot(x=epoch_count,  y=hist.history['accuracy'], label='train')\n",
        "plt.show()"
      ]
    },
    {
      "cell_type": "code",
      "execution_count": 18,
      "metadata": {
        "id": "eTVDnrV0mDRf"
      },
      "outputs": [],
      "source": [
        "# Guardar lo necesario para poder re-utilizar este modelo en el futuro\n",
        "# el vocabulario utilizado (words)\n",
        "# las posibles clases\n",
        "# el modelo\n",
        "import pickle\n",
        "pickle.dump(words, open('words.pkl','wb'))\n",
        "pickle.dump(classes, open('classes.pkl','wb'))\n",
        "model.save('chatbot_model.h5')"
      ]
    },
    {
      "cell_type": "markdown",
      "metadata": {
        "id": "TnD1WvhBfVYR"
      },
      "source": [
        "### 6 - Testing y validación"
      ]
    },
    {
      "cell_type": "code",
      "execution_count": 19,
      "metadata": {
        "id": "kqBdSGt8Orkm"
      },
      "outputs": [],
      "source": [
        "def text_to_tokens(text): \n",
        "    lemma_tokens = []\n",
        "    tokens = nlp(preprocess_clean_text(text.lower()))\n",
        "    for token in tokens:\n",
        "        lemma_tokens.append(token.lemma_)\n",
        "    #print(lemma_tokens)\n",
        "    return lemma_tokens\n",
        "\n",
        "def bag_of_words(text, vocab): \n",
        "    tokens = text_to_tokens(text)\n",
        "    bow = [0] * len(vocab)\n",
        "    for w in tokens: \n",
        "        for idx, word in enumerate(vocab):\n",
        "            if word == w: \n",
        "                bow[idx] = 1\n",
        "    #print(bow)\n",
        "    return np.array(bow)\n",
        "\n",
        "def pred_class(text, vocab, labels): \n",
        "    bow = bag_of_words(text, vocab)\n",
        "    words_recognized = sum(bow)\n",
        "\n",
        "    return_list = []\n",
        "    if words_recognized > 0:\n",
        "        result = model.predict(np.array([bow]))[0]\n",
        "        thresh = 0.2\n",
        "        y_pred = [[idx, res] for idx, res in enumerate(result) if res > thresh]\n",
        "        y_pred.sort(key=lambda x: x[1], reverse=True)\n",
        "    \n",
        "        for r in y_pred:\n",
        "            return_list.append(labels[r[0]])\n",
        "            #print(labels[r[0]], r[1])\n",
        "\n",
        "    return return_list\n",
        "\n",
        "def get_response(intents_list, intents_json):\n",
        "    tag = intents_list[0]\n",
        "    list_of_intents = intents_json[\"intents\"]\n",
        "    for i in list_of_intents: \n",
        "        if i[\"tag\"] == tag:\n",
        "            result = \"BOT: \" + random.choice(i[\"responses\"])\n",
        "            break\n",
        "    return result"
      ]
    },
    {
      "cell_type": "code",
      "execution_count": 20,
      "metadata": {
        "id": "Xp1vXQwdOvl7",
        "colab": {
          "base_uri": "https://localhost:8080/",
          "height": 606
        },
        "outputId": "f3fdd0fd-6b54-4088-e751-1bfcacd92a1e"
      },
      "outputs": [
        {
          "output_type": "stream",
          "name": "stdout",
          "text": [
            "hola\n",
            "BOT: Hola!\n",
            "chau\n",
            "BOT: Hablamos luego!\n"
          ]
        },
        {
          "output_type": "error",
          "ename": "KeyboardInterrupt",
          "evalue": "ignored",
          "traceback": [
            "\u001b[0;31m---------------------------------------------------------------------------\u001b[0m",
            "\u001b[0;31mKeyboardInterrupt\u001b[0m                         Traceback (most recent call last)",
            "\u001b[0;32m/usr/local/lib/python3.7/dist-packages/ipykernel/kernelbase.py\u001b[0m in \u001b[0;36m_input_request\u001b[0;34m(self, prompt, ident, parent, password)\u001b[0m\n\u001b[1;32m    728\u001b[0m             \u001b[0;32mtry\u001b[0m\u001b[0;34m:\u001b[0m\u001b[0;34m\u001b[0m\u001b[0;34m\u001b[0m\u001b[0m\n\u001b[0;32m--> 729\u001b[0;31m                 \u001b[0mident\u001b[0m\u001b[0;34m,\u001b[0m \u001b[0mreply\u001b[0m \u001b[0;34m=\u001b[0m \u001b[0mself\u001b[0m\u001b[0;34m.\u001b[0m\u001b[0msession\u001b[0m\u001b[0;34m.\u001b[0m\u001b[0mrecv\u001b[0m\u001b[0;34m(\u001b[0m\u001b[0mself\u001b[0m\u001b[0;34m.\u001b[0m\u001b[0mstdin_socket\u001b[0m\u001b[0;34m,\u001b[0m \u001b[0;36m0\u001b[0m\u001b[0;34m)\u001b[0m\u001b[0;34m\u001b[0m\u001b[0;34m\u001b[0m\u001b[0m\n\u001b[0m\u001b[1;32m    730\u001b[0m             \u001b[0;32mexcept\u001b[0m \u001b[0mException\u001b[0m\u001b[0;34m:\u001b[0m\u001b[0;34m\u001b[0m\u001b[0;34m\u001b[0m\u001b[0m\n",
            "\u001b[0;32m/usr/local/lib/python3.7/dist-packages/jupyter_client/session.py\u001b[0m in \u001b[0;36mrecv\u001b[0;34m(self, socket, mode, content, copy)\u001b[0m\n\u001b[1;32m    802\u001b[0m         \u001b[0;32mtry\u001b[0m\u001b[0;34m:\u001b[0m\u001b[0;34m\u001b[0m\u001b[0;34m\u001b[0m\u001b[0m\n\u001b[0;32m--> 803\u001b[0;31m             \u001b[0mmsg_list\u001b[0m \u001b[0;34m=\u001b[0m \u001b[0msocket\u001b[0m\u001b[0;34m.\u001b[0m\u001b[0mrecv_multipart\u001b[0m\u001b[0;34m(\u001b[0m\u001b[0mmode\u001b[0m\u001b[0;34m,\u001b[0m \u001b[0mcopy\u001b[0m\u001b[0;34m=\u001b[0m\u001b[0mcopy\u001b[0m\u001b[0;34m)\u001b[0m\u001b[0;34m\u001b[0m\u001b[0;34m\u001b[0m\u001b[0m\n\u001b[0m\u001b[1;32m    804\u001b[0m         \u001b[0;32mexcept\u001b[0m \u001b[0mzmq\u001b[0m\u001b[0;34m.\u001b[0m\u001b[0mZMQError\u001b[0m \u001b[0;32mas\u001b[0m \u001b[0me\u001b[0m\u001b[0;34m:\u001b[0m\u001b[0;34m\u001b[0m\u001b[0;34m\u001b[0m\u001b[0m\n",
            "\u001b[0;32m/usr/local/lib/python3.7/dist-packages/zmq/sugar/socket.py\u001b[0m in \u001b[0;36mrecv_multipart\u001b[0;34m(self, flags, copy, track)\u001b[0m\n\u001b[1;32m    624\u001b[0m         \"\"\"\n\u001b[0;32m--> 625\u001b[0;31m         \u001b[0mparts\u001b[0m \u001b[0;34m=\u001b[0m \u001b[0;34m[\u001b[0m\u001b[0mself\u001b[0m\u001b[0;34m.\u001b[0m\u001b[0mrecv\u001b[0m\u001b[0;34m(\u001b[0m\u001b[0mflags\u001b[0m\u001b[0;34m,\u001b[0m \u001b[0mcopy\u001b[0m\u001b[0;34m=\u001b[0m\u001b[0mcopy\u001b[0m\u001b[0;34m,\u001b[0m \u001b[0mtrack\u001b[0m\u001b[0;34m=\u001b[0m\u001b[0mtrack\u001b[0m\u001b[0;34m)\u001b[0m\u001b[0;34m]\u001b[0m\u001b[0;34m\u001b[0m\u001b[0;34m\u001b[0m\u001b[0m\n\u001b[0m\u001b[1;32m    626\u001b[0m         \u001b[0;31m# have first part already, only loop while more to receive\u001b[0m\u001b[0;34m\u001b[0m\u001b[0;34m\u001b[0m\u001b[0;34m\u001b[0m\u001b[0m\n",
            "\u001b[0;32mzmq/backend/cython/socket.pyx\u001b[0m in \u001b[0;36mzmq.backend.cython.socket.Socket.recv\u001b[0;34m()\u001b[0m\n",
            "\u001b[0;32mzmq/backend/cython/socket.pyx\u001b[0m in \u001b[0;36mzmq.backend.cython.socket.Socket.recv\u001b[0;34m()\u001b[0m\n",
            "\u001b[0;32mzmq/backend/cython/socket.pyx\u001b[0m in \u001b[0;36mzmq.backend.cython.socket._recv_copy\u001b[0;34m()\u001b[0m\n",
            "\u001b[0;32m/usr/local/lib/python3.7/dist-packages/zmq/backend/cython/checkrc.pxd\u001b[0m in \u001b[0;36mzmq.backend.cython.checkrc._check_rc\u001b[0;34m()\u001b[0m\n",
            "\u001b[0;31mKeyboardInterrupt\u001b[0m: ",
            "\nDuring handling of the above exception, another exception occurred:\n",
            "\u001b[0;31mKeyboardInterrupt\u001b[0m                         Traceback (most recent call last)",
            "\u001b[0;32m<ipython-input-20-cf5f658f278f>\u001b[0m in \u001b[0;36m<module>\u001b[0;34m()\u001b[0m\n\u001b[1;32m      1\u001b[0m \u001b[0;32mwhile\u001b[0m \u001b[0;32mTrue\u001b[0m\u001b[0;34m:\u001b[0m\u001b[0;34m\u001b[0m\u001b[0;34m\u001b[0m\u001b[0m\n\u001b[0;32m----> 2\u001b[0;31m     \u001b[0mmessage\u001b[0m \u001b[0;34m=\u001b[0m \u001b[0minput\u001b[0m\u001b[0;34m(\u001b[0m\u001b[0;34m\"\"\u001b[0m\u001b[0;34m)\u001b[0m\u001b[0;34m\u001b[0m\u001b[0;34m\u001b[0m\u001b[0m\n\u001b[0m\u001b[1;32m      3\u001b[0m     \u001b[0mintents\u001b[0m \u001b[0;34m=\u001b[0m \u001b[0mpred_class\u001b[0m\u001b[0;34m(\u001b[0m\u001b[0mmessage\u001b[0m\u001b[0;34m,\u001b[0m \u001b[0mwords\u001b[0m\u001b[0;34m,\u001b[0m \u001b[0mclasses\u001b[0m\u001b[0;34m)\u001b[0m\u001b[0;34m\u001b[0m\u001b[0;34m\u001b[0m\u001b[0m\n\u001b[1;32m      4\u001b[0m     \u001b[0;32mif\u001b[0m \u001b[0mlen\u001b[0m\u001b[0;34m(\u001b[0m\u001b[0mintents\u001b[0m\u001b[0;34m)\u001b[0m \u001b[0;34m>\u001b[0m \u001b[0;36m0\u001b[0m\u001b[0;34m:\u001b[0m\u001b[0;34m\u001b[0m\u001b[0;34m\u001b[0m\u001b[0m\n\u001b[1;32m      5\u001b[0m         \u001b[0mresult\u001b[0m \u001b[0;34m=\u001b[0m \u001b[0mget_response\u001b[0m\u001b[0;34m(\u001b[0m\u001b[0mintents\u001b[0m\u001b[0;34m,\u001b[0m \u001b[0mdataset\u001b[0m\u001b[0;34m)\u001b[0m\u001b[0;34m\u001b[0m\u001b[0;34m\u001b[0m\u001b[0m\n",
            "\u001b[0;32m/usr/local/lib/python3.7/dist-packages/ipykernel/kernelbase.py\u001b[0m in \u001b[0;36mraw_input\u001b[0;34m(self, prompt)\u001b[0m\n\u001b[1;32m    702\u001b[0m             \u001b[0mself\u001b[0m\u001b[0;34m.\u001b[0m\u001b[0m_parent_ident\u001b[0m\u001b[0;34m,\u001b[0m\u001b[0;34m\u001b[0m\u001b[0;34m\u001b[0m\u001b[0m\n\u001b[1;32m    703\u001b[0m             \u001b[0mself\u001b[0m\u001b[0;34m.\u001b[0m\u001b[0m_parent_header\u001b[0m\u001b[0;34m,\u001b[0m\u001b[0;34m\u001b[0m\u001b[0;34m\u001b[0m\u001b[0m\n\u001b[0;32m--> 704\u001b[0;31m             \u001b[0mpassword\u001b[0m\u001b[0;34m=\u001b[0m\u001b[0;32mFalse\u001b[0m\u001b[0;34m,\u001b[0m\u001b[0;34m\u001b[0m\u001b[0;34m\u001b[0m\u001b[0m\n\u001b[0m\u001b[1;32m    705\u001b[0m         )\n\u001b[1;32m    706\u001b[0m \u001b[0;34m\u001b[0m\u001b[0m\n",
            "\u001b[0;32m/usr/local/lib/python3.7/dist-packages/ipykernel/kernelbase.py\u001b[0m in \u001b[0;36m_input_request\u001b[0;34m(self, prompt, ident, parent, password)\u001b[0m\n\u001b[1;32m    732\u001b[0m             \u001b[0;32mexcept\u001b[0m \u001b[0mKeyboardInterrupt\u001b[0m\u001b[0;34m:\u001b[0m\u001b[0;34m\u001b[0m\u001b[0;34m\u001b[0m\u001b[0m\n\u001b[1;32m    733\u001b[0m                 \u001b[0;31m# re-raise KeyboardInterrupt, to truncate traceback\u001b[0m\u001b[0;34m\u001b[0m\u001b[0;34m\u001b[0m\u001b[0;34m\u001b[0m\u001b[0m\n\u001b[0;32m--> 734\u001b[0;31m                 \u001b[0;32mraise\u001b[0m \u001b[0mKeyboardInterrupt\u001b[0m\u001b[0;34m\u001b[0m\u001b[0;34m\u001b[0m\u001b[0m\n\u001b[0m\u001b[1;32m    735\u001b[0m             \u001b[0;32melse\u001b[0m\u001b[0;34m:\u001b[0m\u001b[0;34m\u001b[0m\u001b[0;34m\u001b[0m\u001b[0m\n\u001b[1;32m    736\u001b[0m                 \u001b[0;32mbreak\u001b[0m\u001b[0;34m\u001b[0m\u001b[0;34m\u001b[0m\u001b[0m\n",
            "\u001b[0;31mKeyboardInterrupt\u001b[0m: "
          ]
        }
      ],
      "source": [
        "while True:\n",
        "    message = input(\"\")\n",
        "    intents = pred_class(message, words, classes)\n",
        "    if len(intents) > 0:\n",
        "        result = get_response(intents, dataset)\n",
        "        print(result)\n",
        "    else:\n",
        "        print(\"Perdón, no comprendo la pregunta.\")\n",
        "    "
      ]
    },
    {
      "cell_type": "markdown",
      "metadata": {
        "id": "ayatkwp4fYQx"
      },
      "source": [
        "### 7 - Conclusiones\n",
        "El bot tal cual está definido es capaz de responder a bastantes tipos de preguntas con gran precisión. Algunas técnicas que podrían ensayarse para evaluar como impactan en el sistema son:\n",
        "- Filtrar los stop words\n",
        "- Utilizar TF-IDF en vez de bag of words"
      ]
    }
  ],
  "metadata": {
    "colab": {
      "collapsed_sections": [],
      "name": "Pbrillan 2b - bot_dnn_spacy_esp.ipynb",
      "provenance": [],
      "include_colab_link": true
    },
    "kernelspec": {
      "display_name": "Python 3",
      "name": "python3"
    },
    "language_info": {
      "name": "python"
    },
    "widgets": {
      "application/vnd.jupyter.widget-state+json": {
        "0bcd14fabb5f4d5aa1b0acfa633e4c87": {
          "model_module": "@jupyter-widgets/controls",
          "model_name": "HBoxModel",
          "model_module_version": "1.5.0",
          "state": {
            "_dom_classes": [],
            "_model_module": "@jupyter-widgets/controls",
            "_model_module_version": "1.5.0",
            "_model_name": "HBoxModel",
            "_view_count": null,
            "_view_module": "@jupyter-widgets/controls",
            "_view_module_version": "1.5.0",
            "_view_name": "HBoxView",
            "box_style": "",
            "children": [
              "IPY_MODEL_d0b8bc045b814d51b3d9e979ffec7dcf",
              "IPY_MODEL_7055b8e4da854c1286d219f37d0685ff",
              "IPY_MODEL_89a6d53016734b3ea377230655aaa812"
            ],
            "layout": "IPY_MODEL_7cab2c560f06428b9d54d367c3ffbb78"
          }
        },
        "d0b8bc045b814d51b3d9e979ffec7dcf": {
          "model_module": "@jupyter-widgets/controls",
          "model_name": "HTMLModel",
          "model_module_version": "1.5.0",
          "state": {
            "_dom_classes": [],
            "_model_module": "@jupyter-widgets/controls",
            "_model_module_version": "1.5.0",
            "_model_name": "HTMLModel",
            "_view_count": null,
            "_view_module": "@jupyter-widgets/controls",
            "_view_module_version": "1.5.0",
            "_view_name": "HTMLView",
            "description": "",
            "description_tooltip": null,
            "layout": "IPY_MODEL_3d9751085c2e4449985671573af6d9f6",
            "placeholder": "​",
            "style": "IPY_MODEL_e476051121474478b8bd61c4b88a163a",
            "value": "Downloading https://raw.githubusercontent.com/stanfordnlp/stanza-resources/main/resources_1.2.2.json: "
          }
        },
        "7055b8e4da854c1286d219f37d0685ff": {
          "model_module": "@jupyter-widgets/controls",
          "model_name": "FloatProgressModel",
          "model_module_version": "1.5.0",
          "state": {
            "_dom_classes": [],
            "_model_module": "@jupyter-widgets/controls",
            "_model_module_version": "1.5.0",
            "_model_name": "FloatProgressModel",
            "_view_count": null,
            "_view_module": "@jupyter-widgets/controls",
            "_view_module_version": "1.5.0",
            "_view_name": "ProgressView",
            "bar_style": "success",
            "description": "",
            "description_tooltip": null,
            "layout": "IPY_MODEL_210651d46e3140808f118d56576b4155",
            "max": 24144,
            "min": 0,
            "orientation": "horizontal",
            "style": "IPY_MODEL_771b28ddedaa4707956cea681eceacdf",
            "value": 24144
          }
        },
        "89a6d53016734b3ea377230655aaa812": {
          "model_module": "@jupyter-widgets/controls",
          "model_name": "HTMLModel",
          "model_module_version": "1.5.0",
          "state": {
            "_dom_classes": [],
            "_model_module": "@jupyter-widgets/controls",
            "_model_module_version": "1.5.0",
            "_model_name": "HTMLModel",
            "_view_count": null,
            "_view_module": "@jupyter-widgets/controls",
            "_view_module_version": "1.5.0",
            "_view_name": "HTMLView",
            "description": "",
            "description_tooltip": null,
            "layout": "IPY_MODEL_264418fc59034c2eb2026807defb18c6",
            "placeholder": "​",
            "style": "IPY_MODEL_bfa3134167874ad38156cf3ff35465ac",
            "value": " 140k/? [00:00&lt;00:00, 965kB/s]"
          }
        },
        "7cab2c560f06428b9d54d367c3ffbb78": {
          "model_module": "@jupyter-widgets/base",
          "model_name": "LayoutModel",
          "model_module_version": "1.2.0",
          "state": {
            "_model_module": "@jupyter-widgets/base",
            "_model_module_version": "1.2.0",
            "_model_name": "LayoutModel",
            "_view_count": null,
            "_view_module": "@jupyter-widgets/base",
            "_view_module_version": "1.2.0",
            "_view_name": "LayoutView",
            "align_content": null,
            "align_items": null,
            "align_self": null,
            "border": null,
            "bottom": null,
            "display": null,
            "flex": null,
            "flex_flow": null,
            "grid_area": null,
            "grid_auto_columns": null,
            "grid_auto_flow": null,
            "grid_auto_rows": null,
            "grid_column": null,
            "grid_gap": null,
            "grid_row": null,
            "grid_template_areas": null,
            "grid_template_columns": null,
            "grid_template_rows": null,
            "height": null,
            "justify_content": null,
            "justify_items": null,
            "left": null,
            "margin": null,
            "max_height": null,
            "max_width": null,
            "min_height": null,
            "min_width": null,
            "object_fit": null,
            "object_position": null,
            "order": null,
            "overflow": null,
            "overflow_x": null,
            "overflow_y": null,
            "padding": null,
            "right": null,
            "top": null,
            "visibility": null,
            "width": null
          }
        },
        "3d9751085c2e4449985671573af6d9f6": {
          "model_module": "@jupyter-widgets/base",
          "model_name": "LayoutModel",
          "model_module_version": "1.2.0",
          "state": {
            "_model_module": "@jupyter-widgets/base",
            "_model_module_version": "1.2.0",
            "_model_name": "LayoutModel",
            "_view_count": null,
            "_view_module": "@jupyter-widgets/base",
            "_view_module_version": "1.2.0",
            "_view_name": "LayoutView",
            "align_content": null,
            "align_items": null,
            "align_self": null,
            "border": null,
            "bottom": null,
            "display": null,
            "flex": null,
            "flex_flow": null,
            "grid_area": null,
            "grid_auto_columns": null,
            "grid_auto_flow": null,
            "grid_auto_rows": null,
            "grid_column": null,
            "grid_gap": null,
            "grid_row": null,
            "grid_template_areas": null,
            "grid_template_columns": null,
            "grid_template_rows": null,
            "height": null,
            "justify_content": null,
            "justify_items": null,
            "left": null,
            "margin": null,
            "max_height": null,
            "max_width": null,
            "min_height": null,
            "min_width": null,
            "object_fit": null,
            "object_position": null,
            "order": null,
            "overflow": null,
            "overflow_x": null,
            "overflow_y": null,
            "padding": null,
            "right": null,
            "top": null,
            "visibility": null,
            "width": null
          }
        },
        "e476051121474478b8bd61c4b88a163a": {
          "model_module": "@jupyter-widgets/controls",
          "model_name": "DescriptionStyleModel",
          "model_module_version": "1.5.0",
          "state": {
            "_model_module": "@jupyter-widgets/controls",
            "_model_module_version": "1.5.0",
            "_model_name": "DescriptionStyleModel",
            "_view_count": null,
            "_view_module": "@jupyter-widgets/base",
            "_view_module_version": "1.2.0",
            "_view_name": "StyleView",
            "description_width": ""
          }
        },
        "210651d46e3140808f118d56576b4155": {
          "model_module": "@jupyter-widgets/base",
          "model_name": "LayoutModel",
          "model_module_version": "1.2.0",
          "state": {
            "_model_module": "@jupyter-widgets/base",
            "_model_module_version": "1.2.0",
            "_model_name": "LayoutModel",
            "_view_count": null,
            "_view_module": "@jupyter-widgets/base",
            "_view_module_version": "1.2.0",
            "_view_name": "LayoutView",
            "align_content": null,
            "align_items": null,
            "align_self": null,
            "border": null,
            "bottom": null,
            "display": null,
            "flex": null,
            "flex_flow": null,
            "grid_area": null,
            "grid_auto_columns": null,
            "grid_auto_flow": null,
            "grid_auto_rows": null,
            "grid_column": null,
            "grid_gap": null,
            "grid_row": null,
            "grid_template_areas": null,
            "grid_template_columns": null,
            "grid_template_rows": null,
            "height": null,
            "justify_content": null,
            "justify_items": null,
            "left": null,
            "margin": null,
            "max_height": null,
            "max_width": null,
            "min_height": null,
            "min_width": null,
            "object_fit": null,
            "object_position": null,
            "order": null,
            "overflow": null,
            "overflow_x": null,
            "overflow_y": null,
            "padding": null,
            "right": null,
            "top": null,
            "visibility": null,
            "width": null
          }
        },
        "771b28ddedaa4707956cea681eceacdf": {
          "model_module": "@jupyter-widgets/controls",
          "model_name": "ProgressStyleModel",
          "model_module_version": "1.5.0",
          "state": {
            "_model_module": "@jupyter-widgets/controls",
            "_model_module_version": "1.5.0",
            "_model_name": "ProgressStyleModel",
            "_view_count": null,
            "_view_module": "@jupyter-widgets/base",
            "_view_module_version": "1.2.0",
            "_view_name": "StyleView",
            "bar_color": null,
            "description_width": ""
          }
        },
        "264418fc59034c2eb2026807defb18c6": {
          "model_module": "@jupyter-widgets/base",
          "model_name": "LayoutModel",
          "model_module_version": "1.2.0",
          "state": {
            "_model_module": "@jupyter-widgets/base",
            "_model_module_version": "1.2.0",
            "_model_name": "LayoutModel",
            "_view_count": null,
            "_view_module": "@jupyter-widgets/base",
            "_view_module_version": "1.2.0",
            "_view_name": "LayoutView",
            "align_content": null,
            "align_items": null,
            "align_self": null,
            "border": null,
            "bottom": null,
            "display": null,
            "flex": null,
            "flex_flow": null,
            "grid_area": null,
            "grid_auto_columns": null,
            "grid_auto_flow": null,
            "grid_auto_rows": null,
            "grid_column": null,
            "grid_gap": null,
            "grid_row": null,
            "grid_template_areas": null,
            "grid_template_columns": null,
            "grid_template_rows": null,
            "height": null,
            "justify_content": null,
            "justify_items": null,
            "left": null,
            "margin": null,
            "max_height": null,
            "max_width": null,
            "min_height": null,
            "min_width": null,
            "object_fit": null,
            "object_position": null,
            "order": null,
            "overflow": null,
            "overflow_x": null,
            "overflow_y": null,
            "padding": null,
            "right": null,
            "top": null,
            "visibility": null,
            "width": null
          }
        },
        "bfa3134167874ad38156cf3ff35465ac": {
          "model_module": "@jupyter-widgets/controls",
          "model_name": "DescriptionStyleModel",
          "model_module_version": "1.5.0",
          "state": {
            "_model_module": "@jupyter-widgets/controls",
            "_model_module_version": "1.5.0",
            "_model_name": "DescriptionStyleModel",
            "_view_count": null,
            "_view_module": "@jupyter-widgets/base",
            "_view_module_version": "1.2.0",
            "_view_name": "StyleView",
            "description_width": ""
          }
        },
        "c9a83919811241a7be79271ddb409ee2": {
          "model_module": "@jupyter-widgets/controls",
          "model_name": "HBoxModel",
          "model_module_version": "1.5.0",
          "state": {
            "_dom_classes": [],
            "_model_module": "@jupyter-widgets/controls",
            "_model_module_version": "1.5.0",
            "_model_name": "HBoxModel",
            "_view_count": null,
            "_view_module": "@jupyter-widgets/controls",
            "_view_module_version": "1.5.0",
            "_view_name": "HBoxView",
            "box_style": "",
            "children": [
              "IPY_MODEL_8e8cb196515d4b0697160b0b071e54ee",
              "IPY_MODEL_b41ead89ad284303a0cb5302441ed825",
              "IPY_MODEL_f32849556eae48db8eec3cd87f0b7c51"
            ],
            "layout": "IPY_MODEL_056d9a4b1c4c47b08aecea95fb339c8a"
          }
        },
        "8e8cb196515d4b0697160b0b071e54ee": {
          "model_module": "@jupyter-widgets/controls",
          "model_name": "HTMLModel",
          "model_module_version": "1.5.0",
          "state": {
            "_dom_classes": [],
            "_model_module": "@jupyter-widgets/controls",
            "_model_module_version": "1.5.0",
            "_model_name": "HTMLModel",
            "_view_count": null,
            "_view_module": "@jupyter-widgets/controls",
            "_view_module_version": "1.5.0",
            "_view_name": "HTMLView",
            "description": "",
            "description_tooltip": null,
            "layout": "IPY_MODEL_8c45fb355bcd43dcab52c9e2c1047646",
            "placeholder": "​",
            "style": "IPY_MODEL_3dd5e94805a2493483e26e377974fea8",
            "value": "Downloading http://nlp.stanford.edu/software/stanza/1.2.2/es/default.zip: 100%"
          }
        },
        "b41ead89ad284303a0cb5302441ed825": {
          "model_module": "@jupyter-widgets/controls",
          "model_name": "FloatProgressModel",
          "model_module_version": "1.5.0",
          "state": {
            "_dom_classes": [],
            "_model_module": "@jupyter-widgets/controls",
            "_model_module_version": "1.5.0",
            "_model_name": "FloatProgressModel",
            "_view_count": null,
            "_view_module": "@jupyter-widgets/controls",
            "_view_module_version": "1.5.0",
            "_view_name": "ProgressView",
            "bar_style": "success",
            "description": "",
            "description_tooltip": null,
            "layout": "IPY_MODEL_ae15fc8f3d45440bb2360248050c1520",
            "max": 565553347,
            "min": 0,
            "orientation": "horizontal",
            "style": "IPY_MODEL_f8728c5a56fe4750894554625a75f523",
            "value": 565553347
          }
        },
        "f32849556eae48db8eec3cd87f0b7c51": {
          "model_module": "@jupyter-widgets/controls",
          "model_name": "HTMLModel",
          "model_module_version": "1.5.0",
          "state": {
            "_dom_classes": [],
            "_model_module": "@jupyter-widgets/controls",
            "_model_module_version": "1.5.0",
            "_model_name": "HTMLModel",
            "_view_count": null,
            "_view_module": "@jupyter-widgets/controls",
            "_view_module_version": "1.5.0",
            "_view_name": "HTMLView",
            "description": "",
            "description_tooltip": null,
            "layout": "IPY_MODEL_7b11ede93f6d4ccea64e42e2e4fff1d7",
            "placeholder": "​",
            "style": "IPY_MODEL_3d62b64ed7e44ff09af53687e90955bc",
            "value": " 566M/566M [01:44&lt;00:00, 5.28MB/s]"
          }
        },
        "056d9a4b1c4c47b08aecea95fb339c8a": {
          "model_module": "@jupyter-widgets/base",
          "model_name": "LayoutModel",
          "model_module_version": "1.2.0",
          "state": {
            "_model_module": "@jupyter-widgets/base",
            "_model_module_version": "1.2.0",
            "_model_name": "LayoutModel",
            "_view_count": null,
            "_view_module": "@jupyter-widgets/base",
            "_view_module_version": "1.2.0",
            "_view_name": "LayoutView",
            "align_content": null,
            "align_items": null,
            "align_self": null,
            "border": null,
            "bottom": null,
            "display": null,
            "flex": null,
            "flex_flow": null,
            "grid_area": null,
            "grid_auto_columns": null,
            "grid_auto_flow": null,
            "grid_auto_rows": null,
            "grid_column": null,
            "grid_gap": null,
            "grid_row": null,
            "grid_template_areas": null,
            "grid_template_columns": null,
            "grid_template_rows": null,
            "height": null,
            "justify_content": null,
            "justify_items": null,
            "left": null,
            "margin": null,
            "max_height": null,
            "max_width": null,
            "min_height": null,
            "min_width": null,
            "object_fit": null,
            "object_position": null,
            "order": null,
            "overflow": null,
            "overflow_x": null,
            "overflow_y": null,
            "padding": null,
            "right": null,
            "top": null,
            "visibility": null,
            "width": null
          }
        },
        "8c45fb355bcd43dcab52c9e2c1047646": {
          "model_module": "@jupyter-widgets/base",
          "model_name": "LayoutModel",
          "model_module_version": "1.2.0",
          "state": {
            "_model_module": "@jupyter-widgets/base",
            "_model_module_version": "1.2.0",
            "_model_name": "LayoutModel",
            "_view_count": null,
            "_view_module": "@jupyter-widgets/base",
            "_view_module_version": "1.2.0",
            "_view_name": "LayoutView",
            "align_content": null,
            "align_items": null,
            "align_self": null,
            "border": null,
            "bottom": null,
            "display": null,
            "flex": null,
            "flex_flow": null,
            "grid_area": null,
            "grid_auto_columns": null,
            "grid_auto_flow": null,
            "grid_auto_rows": null,
            "grid_column": null,
            "grid_gap": null,
            "grid_row": null,
            "grid_template_areas": null,
            "grid_template_columns": null,
            "grid_template_rows": null,
            "height": null,
            "justify_content": null,
            "justify_items": null,
            "left": null,
            "margin": null,
            "max_height": null,
            "max_width": null,
            "min_height": null,
            "min_width": null,
            "object_fit": null,
            "object_position": null,
            "order": null,
            "overflow": null,
            "overflow_x": null,
            "overflow_y": null,
            "padding": null,
            "right": null,
            "top": null,
            "visibility": null,
            "width": null
          }
        },
        "3dd5e94805a2493483e26e377974fea8": {
          "model_module": "@jupyter-widgets/controls",
          "model_name": "DescriptionStyleModel",
          "model_module_version": "1.5.0",
          "state": {
            "_model_module": "@jupyter-widgets/controls",
            "_model_module_version": "1.5.0",
            "_model_name": "DescriptionStyleModel",
            "_view_count": null,
            "_view_module": "@jupyter-widgets/base",
            "_view_module_version": "1.2.0",
            "_view_name": "StyleView",
            "description_width": ""
          }
        },
        "ae15fc8f3d45440bb2360248050c1520": {
          "model_module": "@jupyter-widgets/base",
          "model_name": "LayoutModel",
          "model_module_version": "1.2.0",
          "state": {
            "_model_module": "@jupyter-widgets/base",
            "_model_module_version": "1.2.0",
            "_model_name": "LayoutModel",
            "_view_count": null,
            "_view_module": "@jupyter-widgets/base",
            "_view_module_version": "1.2.0",
            "_view_name": "LayoutView",
            "align_content": null,
            "align_items": null,
            "align_self": null,
            "border": null,
            "bottom": null,
            "display": null,
            "flex": null,
            "flex_flow": null,
            "grid_area": null,
            "grid_auto_columns": null,
            "grid_auto_flow": null,
            "grid_auto_rows": null,
            "grid_column": null,
            "grid_gap": null,
            "grid_row": null,
            "grid_template_areas": null,
            "grid_template_columns": null,
            "grid_template_rows": null,
            "height": null,
            "justify_content": null,
            "justify_items": null,
            "left": null,
            "margin": null,
            "max_height": null,
            "max_width": null,
            "min_height": null,
            "min_width": null,
            "object_fit": null,
            "object_position": null,
            "order": null,
            "overflow": null,
            "overflow_x": null,
            "overflow_y": null,
            "padding": null,
            "right": null,
            "top": null,
            "visibility": null,
            "width": null
          }
        },
        "f8728c5a56fe4750894554625a75f523": {
          "model_module": "@jupyter-widgets/controls",
          "model_name": "ProgressStyleModel",
          "model_module_version": "1.5.0",
          "state": {
            "_model_module": "@jupyter-widgets/controls",
            "_model_module_version": "1.5.0",
            "_model_name": "ProgressStyleModel",
            "_view_count": null,
            "_view_module": "@jupyter-widgets/base",
            "_view_module_version": "1.2.0",
            "_view_name": "StyleView",
            "bar_color": null,
            "description_width": ""
          }
        },
        "7b11ede93f6d4ccea64e42e2e4fff1d7": {
          "model_module": "@jupyter-widgets/base",
          "model_name": "LayoutModel",
          "model_module_version": "1.2.0",
          "state": {
            "_model_module": "@jupyter-widgets/base",
            "_model_module_version": "1.2.0",
            "_model_name": "LayoutModel",
            "_view_count": null,
            "_view_module": "@jupyter-widgets/base",
            "_view_module_version": "1.2.0",
            "_view_name": "LayoutView",
            "align_content": null,
            "align_items": null,
            "align_self": null,
            "border": null,
            "bottom": null,
            "display": null,
            "flex": null,
            "flex_flow": null,
            "grid_area": null,
            "grid_auto_columns": null,
            "grid_auto_flow": null,
            "grid_auto_rows": null,
            "grid_column": null,
            "grid_gap": null,
            "grid_row": null,
            "grid_template_areas": null,
            "grid_template_columns": null,
            "grid_template_rows": null,
            "height": null,
            "justify_content": null,
            "justify_items": null,
            "left": null,
            "margin": null,
            "max_height": null,
            "max_width": null,
            "min_height": null,
            "min_width": null,
            "object_fit": null,
            "object_position": null,
            "order": null,
            "overflow": null,
            "overflow_x": null,
            "overflow_y": null,
            "padding": null,
            "right": null,
            "top": null,
            "visibility": null,
            "width": null
          }
        },
        "3d62b64ed7e44ff09af53687e90955bc": {
          "model_module": "@jupyter-widgets/controls",
          "model_name": "DescriptionStyleModel",
          "model_module_version": "1.5.0",
          "state": {
            "_model_module": "@jupyter-widgets/controls",
            "_model_module_version": "1.5.0",
            "_model_name": "DescriptionStyleModel",
            "_view_count": null,
            "_view_module": "@jupyter-widgets/base",
            "_view_module_version": "1.2.0",
            "_view_name": "StyleView",
            "description_width": ""
          }
        }
      }
    }
  },
  "nbformat": 4,
  "nbformat_minor": 0
}